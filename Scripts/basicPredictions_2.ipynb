{
 "cells": [
  {
   "cell_type": "code",
   "execution_count": 1,
   "metadata": {},
   "outputs": [],
   "source": [
    "import pandas as pd\n",
    "from sklearn.ensemble import RandomForestClassifier\n",
    "from sklearn.metrics import f1_score, make_scorer, classification_report\n",
    "from sklearn.model_selection import train_test_split, cross_val_score\n",
    "from sklearn.preprocessing import LabelEncoder, OneHotEncoder\n",
    "import numpy as np\n",
    "from collections import defaultdict"
   ]
  },
  {
   "cell_type": "code",
   "execution_count": 2,
   "metadata": {},
   "outputs": [],
   "source": [
    "teamPath = '/Users/lorneez/projects/sports_predictor/Sports_Model/Data/teamData.csv'\n",
    "playerPath = '/Users/lorneez/projects/sports_predictor/Sports_Model/Data/playerData.csv'\n",
    "outcomePath = '/Users/lorneez/projects/sports_predictor/Sports_Model/Data/outcomeData.csv'"
   ]
  },
  {
   "cell_type": "code",
   "execution_count": 3,
   "metadata": {},
   "outputs": [],
   "source": [
    "teamData = pd.read_csv(teamPath)\n",
    "playerData = pd.read_csv(playerPath, engine='python')\n",
    "outcomeData = pd.read_csv(outcomePath)"
   ]
  },
  {
   "cell_type": "code",
   "execution_count": 4,
   "metadata": {},
   "outputs": [
    {
     "data": {
      "text/html": [
       "<div>\n",
       "<style scoped>\n",
       "    .dataframe tbody tr th:only-of-type {\n",
       "        vertical-align: middle;\n",
       "    }\n",
       "\n",
       "    .dataframe tbody tr th {\n",
       "        vertical-align: top;\n",
       "    }\n",
       "\n",
       "    .dataframe thead th {\n",
       "        text-align: right;\n",
       "    }\n",
       "</style>\n",
       "<table border=\"1\" class=\"dataframe\">\n",
       "  <thead>\n",
       "    <tr style=\"text-align: right;\">\n",
       "      <th></th>\n",
       "      <th>Year</th>\n",
       "      <th>Month</th>\n",
       "      <th>Visitor</th>\n",
       "      <th>VisitorPTS</th>\n",
       "      <th>Home</th>\n",
       "      <th>HomePTS</th>\n",
       "      <th>OT?</th>\n",
       "      <th>Attend</th>\n",
       "      <th>Total Points</th>\n",
       "      <th>Winner</th>\n",
       "    </tr>\n",
       "  </thead>\n",
       "  <tbody>\n",
       "    <tr>\n",
       "      <th>0</th>\n",
       "      <td>2005</td>\n",
       "      <td>november</td>\n",
       "      <td>Houston Rockets</td>\n",
       "      <td>79</td>\n",
       "      <td>Detroit Pistons</td>\n",
       "      <td>87</td>\n",
       "      <td>NaN</td>\n",
       "      <td>22076</td>\n",
       "      <td>166</td>\n",
       "      <td>Detroit Pistons</td>\n",
       "    </tr>\n",
       "    <tr>\n",
       "      <th>1</th>\n",
       "      <td>2005</td>\n",
       "      <td>november</td>\n",
       "      <td>Sacramento Kings</td>\n",
       "      <td>98</td>\n",
       "      <td>Dallas Mavericks</td>\n",
       "      <td>107</td>\n",
       "      <td>NaN</td>\n",
       "      <td>20041</td>\n",
       "      <td>205</td>\n",
       "      <td>Dallas Mavericks</td>\n",
       "    </tr>\n",
       "    <tr>\n",
       "      <th>2</th>\n",
       "      <td>2005</td>\n",
       "      <td>november</td>\n",
       "      <td>Denver Nuggets</td>\n",
       "      <td>78</td>\n",
       "      <td>Los Angeles Lakers</td>\n",
       "      <td>89</td>\n",
       "      <td>NaN</td>\n",
       "      <td>18997</td>\n",
       "      <td>167</td>\n",
       "      <td>Los Angeles Lakers</td>\n",
       "    </tr>\n",
       "    <tr>\n",
       "      <th>3</th>\n",
       "      <td>2005</td>\n",
       "      <td>november</td>\n",
       "      <td>Indiana Pacers</td>\n",
       "      <td>109</td>\n",
       "      <td>Cleveland Cavaliers</td>\n",
       "      <td>104</td>\n",
       "      <td>2OT</td>\n",
       "      <td>19730</td>\n",
       "      <td>213</td>\n",
       "      <td>Indiana Pacers</td>\n",
       "    </tr>\n",
       "    <tr>\n",
       "      <th>4</th>\n",
       "      <td>2005</td>\n",
       "      <td>november</td>\n",
       "      <td>Milwaukee Bucks</td>\n",
       "      <td>92</td>\n",
       "      <td>Orlando Magic</td>\n",
       "      <td>93</td>\n",
       "      <td>NaN</td>\n",
       "      <td>15138</td>\n",
       "      <td>185</td>\n",
       "      <td>Orlando Magic</td>\n",
       "    </tr>\n",
       "  </tbody>\n",
       "</table>\n",
       "</div>"
      ],
      "text/plain": [
       "   Year     Month           Visitor  VisitorPTS                 Home  HomePTS  \\\n",
       "0  2005  november   Houston Rockets          79      Detroit Pistons       87   \n",
       "1  2005  november  Sacramento Kings          98     Dallas Mavericks      107   \n",
       "2  2005  november    Denver Nuggets          78   Los Angeles Lakers       89   \n",
       "3  2005  november    Indiana Pacers         109  Cleveland Cavaliers      104   \n",
       "4  2005  november   Milwaukee Bucks          92        Orlando Magic       93   \n",
       "\n",
       "   OT?  Attend  Total Points              Winner  \n",
       "0  NaN   22076           166     Detroit Pistons  \n",
       "1  NaN   20041           205    Dallas Mavericks  \n",
       "2  NaN   18997           167  Los Angeles Lakers  \n",
       "3  2OT   19730           213      Indiana Pacers  \n",
       "4  NaN   15138           185       Orlando Magic  "
      ]
     },
     "execution_count": 4,
     "metadata": {},
     "output_type": "execute_result"
    }
   ],
   "source": [
    "outcomeData = outcomeData.drop([\"Start Time\", \"Box Score\", \"Notes\"], axis=1)\n",
    "\n",
    "outcomeData.head()"
   ]
  },
  {
   "cell_type": "code",
   "execution_count": 5,
   "metadata": {},
   "outputs": [],
   "source": [
    "def redefineTeamNames(dataframe):\n",
    "    \n",
    "    dataframe['Visitor'] = dataframe['Visitor'].replace('Seattle SuperSonics', 'Oklahoma City Thunder', regex=True)\n",
    "    dataframe['Home'] = dataframe['Home'].replace('Seattle SuperSonics', 'Oklahoma City Thunder', regex=True)\n",
    "    \n",
    "    dataframe['Visitor'] = dataframe['Visitor'].replace('New Orleans/Oklahoma City Hornets', 'New Orleans Pelicans', regex=True)\n",
    "    dataframe['Home'] = dataframe['Home'].replace('New Orleans/Oklahoma City Hornets', 'New Orleans Pelicans', regex=True)\n",
    "\n",
    "    dataframe['Visitor'] = dataframe['Visitor'].replace('New Orleans Hornets', 'New Orleans Pelicans', regex=True)\n",
    "    dataframe['Home'] = dataframe['Home'].replace('New Orleans Hornets', 'New Orleans Pelicans', regex=True)\n",
    "    \n",
    "    dataframe['Visitor'] = dataframe['Visitor'].replace('Charlotte Bobcats', 'Charlotte Hornets', regex=True)\n",
    "    dataframe['Home'] = dataframe['Home'].replace('Charlotte Bobcats', 'Charlotte Hornets', regex=True)\n",
    "    \n",
    "    dataframe['Visitor'] = dataframe['Visitor'].replace('New Jersey Nets', 'Brooklyn Nets', regex=True)\n",
    "    dataframe['Home'] = dataframe['Home'].replace('New Jersey Nets', 'Brooklyn Nets', regex=True)\n",
    "\n",
    "    return dataframe"
   ]
  },
  {
   "cell_type": "code",
   "execution_count": 6,
   "metadata": {},
   "outputs": [],
   "source": [
    "outcomeData = redefineTeamNames(outcomeData)"
   ]
  },
  {
   "cell_type": "code",
   "execution_count": null,
   "metadata": {},
   "outputs": [],
   "source": []
  },
  {
   "cell_type": "code",
   "execution_count": 7,
   "metadata": {},
   "outputs": [],
   "source": [
    "def homeWin(dataframe):\n",
    "    if dataframe['Winner'] == dataframe['Home']:\n",
    "        return True\n",
    "    else:\n",
    "        return False"
   ]
  },
  {
   "cell_type": "code",
   "execution_count": 8,
   "metadata": {},
   "outputs": [],
   "source": [
    "outcomeData['HomeWin'] = outcomeData.apply(homeWin, axis=1)\n",
    "encoding = LabelEncoder()\n",
    "encoding.fit(outcomeData['Home'].values)\n",
    "outcomeData['Home'] = encoding.transform(outcomeData['Home'].values)\n",
    "outcomeData['Visitor'] = encoding.transform(outcomeData['Visitor'].values)\n"
   ]
  },
  {
   "cell_type": "code",
   "execution_count": 9,
   "metadata": {},
   "outputs": [],
   "source": [
    "# target column (in this case, whether or not the home team will win)\n",
    "y = outcomeData[\"HomeWin\"]\n",
    "\n",
    "# columns that will be used to make the prediction\n",
    "X = outcomeData[[\"Visitor\", \"Home\"]]\n",
    "\n",
    "# set up scorer for testing accuracy\n",
    "scorer = make_scorer(f1_score, pos_label = None, average = \"weighted\")"
   ]
  },
  {
   "cell_type": "code",
   "execution_count": 10,
   "metadata": {},
   "outputs": [],
   "source": [
    "# Set up train test split\n",
    "X_train, X_test, y_train, y_test = train_test_split(X, y, test_size=0.20, random_state=100)"
   ]
  },
  {
   "cell_type": "code",
   "execution_count": 11,
   "metadata": {},
   "outputs": [
    {
     "name": "stderr",
     "output_type": "stream",
     "text": [
      "/Library/Frameworks/Python.framework/Versions/3.7/lib/python3.7/site-packages/sklearn/model_selection/_split.py:1943: FutureWarning: You should specify a value for 'cv' instead of relying on the default value. The default value will change from 3 to 5 in version 0.22.\n",
      "  warnings.warn(CV_WARNING, FutureWarning)\n",
      "/Library/Frameworks/Python.framework/Versions/3.7/lib/python3.7/site-packages/sklearn/ensemble/forest.py:248: FutureWarning: The default value of n_estimators will change from 10 in version 0.20 to 100 in 0.22.\n",
      "  \"10 in version 0.20 to 100 in 0.22.\", FutureWarning)\n",
      "/Library/Frameworks/Python.framework/Versions/3.7/lib/python3.7/site-packages/sklearn/ensemble/forest.py:248: FutureWarning: The default value of n_estimators will change from 10 in version 0.20 to 100 in 0.22.\n",
      "  \"10 in version 0.20 to 100 in 0.22.\", FutureWarning)\n",
      "/Library/Frameworks/Python.framework/Versions/3.7/lib/python3.7/site-packages/sklearn/ensemble/forest.py:248: FutureWarning: The default value of n_estimators will change from 10 in version 0.20 to 100 in 0.22.\n",
      "  \"10 in version 0.20 to 100 in 0.22.\", FutureWarning)\n"
     ]
    }
   ],
   "source": [
    "clf = RandomForestClassifier(random_state = 14)\n",
    "scores = cross_val_score(clf, X_train, y_train, scoring=scorer)"
   ]
  },
  {
   "cell_type": "code",
   "execution_count": 12,
   "metadata": {},
   "outputs": [
    {
     "name": "stdout",
     "output_type": "stream",
     "text": [
      "0.5840262296053994\n"
     ]
    }
   ],
   "source": [
    "print(np.mean(scores))"
   ]
  },
  {
   "cell_type": "code",
   "execution_count": null,
   "metadata": {},
   "outputs": [],
   "source": []
  }
 ],
 "metadata": {
  "kernelspec": {
   "display_name": "Python 3",
   "language": "python",
   "name": "python3"
  },
  "language_info": {
   "codemirror_mode": {
    "name": "ipython",
    "version": 3
   },
   "file_extension": ".py",
   "mimetype": "text/x-python",
   "name": "python",
   "nbconvert_exporter": "python",
   "pygments_lexer": "ipython3",
   "version": "3.7.3"
  }
 },
 "nbformat": 4,
 "nbformat_minor": 2
}
