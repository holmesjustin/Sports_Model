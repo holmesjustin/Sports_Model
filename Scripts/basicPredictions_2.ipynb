{
 "cells": [
  {
   "cell_type": "code",
   "execution_count": null,
   "metadata": {},
   "outputs": [],
   "source": [
    "import pandas as pd # pandas dataframes\n",
    "from sklearn.ensemble import RandomForestClassifier # model that takes in data to train and classify the imports\n",
    "from sklearn.metrics import f1_score, make_scorer, classification_report \n",
    "from sklearn.model_selection import train_test_split, cross_val_score\n",
    "from sklearn.preprocessing import LabelEncoder, OneHotEncoder # one hot encoding of team names\n",
    "import numpy as np\n",
    "from collections import defaultdict\n",
    "import time\n"
   ]
  },
  {
   "cell_type": "code",
   "execution_count": null,
   "metadata": {},
   "outputs": [],
   "source": [
    "# import csv files from git repository\n",
    "teamPath = '/Users/lorneez/projects/sports_predictor/Sports_Model/Data/teamData.csv'\n",
    "playerPath = '/Users/lorneez/projects/sports_predictor/Sports_Model/Data/playerData.csv'\n",
    "outcomePath = '/Users/lorneez/projects/sports_predictor/Sports_Model/Data/outcomeData.csv'"
   ]
  },
  {
   "cell_type": "code",
   "execution_count": null,
   "metadata": {},
   "outputs": [],
   "source": [
    "# convert csv files into pandas dataframes\n",
    "teamData = pd.read_csv(teamPath)\n",
    "playerData = pd.read_csv(playerPath, engine='python')\n",
    "outcomeData = pd.read_csv(outcomePath)"
   ]
  },
  {
   "cell_type": "code",
   "execution_count": null,
   "metadata": {},
   "outputs": [],
   "source": [
    "teamData"
   ]
  },
  {
   "cell_type": "markdown",
   "metadata": {},
   "source": [
    "### Format All Data"
   ]
  },
  {
   "cell_type": "code",
   "execution_count": null,
   "metadata": {},
   "outputs": [],
   "source": [
    "# drop unwanted columns\n",
    "outcomeData = outcomeData.drop([\"Start Time\", \"Box Score\", \"Notes\"], axis=1)\n",
    "\n",
    "# change OT to integer value for number of OT rounds\n",
    "outcomeData.loc[(outcomeData[\"OT?\"].isna()),'OT?']= 0\n",
    "outcomeData.loc[(outcomeData[\"OT?\"] == \"OT\"),'OT?']= 1\n",
    "outcomeData.loc[(outcomeData[\"OT?\"] == \"2OT\"),'OT?']= 2\n",
    "outcomeData.loc[(outcomeData[\"OT?\"] == \"3OT\"),'OT?']= 3\n",
    "outcomeData.loc[(outcomeData[\"OT?\"] == \"4OT\"),'OT?']= 4\n"
   ]
  },
  {
   "cell_type": "code",
   "execution_count": null,
   "metadata": {},
   "outputs": [],
   "source": [
    "# function for redefining team names\n",
    "def redefineTeamNames(dataframe):\n",
    "    \n",
    "    dataframe = dataframe.replace('Seattle SuperSonics', 'Oklahoma City Thunder', regex=True)\n",
    "    \n",
    "    dataframe = dataframe.replace('New Orleans/Oklahoma City Hornets', 'New Orleans Pelicans', regex=True)\n",
    "\n",
    "    dataframe = dataframe.replace('New Orleans Hornets', 'New Orleans Pelicans', regex=True)\n",
    "    \n",
    "    dataframe = dataframe.replace('Charlotte Bobcats', 'Charlotte Hornets', regex=True)\n",
    "    \n",
    "    dataframe = dataframe.replace('New Jersey Nets', 'Brooklyn Nets', regex=True)\n",
    "\n",
    "    return dataframe"
   ]
  },
  {
   "cell_type": "code",
   "execution_count": null,
   "metadata": {},
   "outputs": [],
   "source": [
    "# call function to redefine team names\n",
    "outcomeData = redefineTeamNames(outcomeData)\n",
    "teamData = redefineTeamNames(teamData)\n",
    "\n",
    "# set up encoder and use one hot encoding to transform team names\n",
    "encoding = LabelEncoder()\n",
    "encoding.fit(outcomeData['Home'].values)\n",
    "outcomeData['HomeEncoded'] = encoding.transform(outcomeData['Home'].values)\n",
    "outcomeData['VisitorEncoded'] = encoding.transform(outcomeData['Visitor'].values)"
   ]
  },
  {
   "cell_type": "code",
   "execution_count": null,
   "metadata": {},
   "outputs": [],
   "source": [
    "# generate column names\n",
    "teamDataColumn = teamData.drop(['Team', \"Year\", \"Arena\", \"Attend.\", \"Attend./G\", \"G_PG\", \"MP_PG\"], axis=1).columns\n",
    "print(teamDataColumn)\n",
    "testTeamDataColumn = teamData.drop(teamData.columns.difference([\"3P_PG\", \"FGA_PG\", \"FG%_PG\", \"3P_PG\", \n",
    "                                                               \"3PA_PG\", \"3P%_PG\", \"ORB_PG\", \"DRB_PG\", \"TRB_PG\", \"AST_PG\"\n",
    "                                                                , \"STL_PG\", \"BLK_PG\", \"TOV_PG\", \"2P_PG\", \"2PA_PG\"]), axis=1).columns\n",
    "print(testTeamDataColumn)\n",
    "# outcomeData = outcomeData.loc[outcomeData['Year'] == 2020]\n",
    "outcomeData\n",
    "\n"
   ]
  },
  {
   "cell_type": "markdown",
   "metadata": {},
   "source": [
    "### Feature Engineering"
   ]
  },
  {
   "cell_type": "markdown",
   "metadata": {},
   "source": [
    "#### y data"
   ]
  },
  {
   "cell_type": "code",
   "execution_count": null,
   "metadata": {},
   "outputs": [],
   "source": [
    "# function for finding if the home team is the winner\n",
    "def homeWin(dataframe):\n",
    "    if dataframe['Winner'] == dataframe['Home']:\n",
    "        return True\n",
    "    else:\n",
    "        return False\n",
    "    \n",
    "# add in HomeWin column\n",
    "outcomeData['HomeWin'] = outcomeData.apply(homeWin, axis=1)"
   ]
  },
  {
   "cell_type": "code",
   "execution_count": null,
   "metadata": {},
   "outputs": [],
   "source": [
    "won_last = defaultdict(int)\n",
    "\n",
    "for index, row in outcomeData.iterrows():\n",
    "    home_team = row[\"Home\"]\n",
    "    visitor_team = row[\"Visitor\"]\n",
    "    outcomeData.loc[index,'HomeLastWin'] = won_last[home_team]\n",
    "    outcomeData.loc[index,'VisitorLastWin'] = won_last[visitor_team]\n",
    "    won_last[home_team] = row[\"HomeWin\"]\n",
    "    won_last[visitor_team] = not row[\"HomeWin\"]"
   ]
  },
  {
   "cell_type": "code",
   "execution_count": null,
   "metadata": {},
   "outputs": [],
   "source": [
    "outcomeData[\"HomeWinStreak\"] = 0\n",
    "outcomeData[\"VisitorWinStreak\"] = 0\n",
    "\n",
    "win_streak = defaultdict(int)\n",
    "\n",
    "for index, row in outcomeData.iterrows():\n",
    "    home_team = row[\"Home\"]\n",
    "    visitor_team = row[\"Visitor\"]\n",
    "    outcomeData.loc[index,'HomeWinStreak'] = win_streak[home_team]\n",
    "    outcomeData.loc[index,'VisitorWinStreak'] = win_streak[visitor_team]\n",
    "    if row[\"HomeWin\"]:\n",
    "        win_streak[home_team] += 1\n",
    "        win_streak[visitor_team] = 0\n",
    "    else:\n",
    "        win_streak[home_team] = 0\n",
    "        win_streak[visitor_team] += 1"
   ]
  },
  {
   "cell_type": "code",
   "execution_count": null,
   "metadata": {},
   "outputs": [],
   "source": [
    "outcomeData"
   ]
  },
  {
   "cell_type": "code",
   "execution_count": null,
   "metadata": {},
   "outputs": [],
   "source": [
    "def home_team_ranks_higher(row):\n",
    "    home_team = row[\"Home Team\"]\n",
    "    visitor_team = row[\"Visitor Team\"]\n",
    "    home_rank = ladder.loc[home_team][\"Rk\"]\n",
    "    visitor_rank = ladder.loc[visitor_team][\"Rk\"]\n",
    "    return home_rank < visitor_rank"
   ]
  },
  {
   "cell_type": "code",
   "execution_count": null,
   "metadata": {},
   "outputs": [],
   "source": [
    "def home_team_won_last(row):\n",
    "    home_team = row[\"Home Team\"]\n",
    "    visitor_team = row[\"Visitor Team\"]\n",
    "    \n",
    "    teams = tuple(sorted([home_team, visitor_team]))\n",
    "    result = 1 if last_match_winner[teams] == row[\"Home Team\"] else 0\n",
    "    \n",
    "    winner = row[\"Home Team\"] if row[\"HomeWin\"] else row[\"Visitor Team\"]\n",
    "    last_match_winner[teams] = winner\n",
    "    \n",
    "    return result\n",
    "    \n",
    "outcomeData['HomeTeamWonLast'] = outcomeData.apply(home_team_won_last, axis=1)"
   ]
  },
  {
   "cell_type": "code",
   "execution_count": null,
   "metadata": {},
   "outputs": [],
   "source": [
    "# spread\n",
    "outcomeData[\"Final Home Spread\"] = (outcomeData[\"VisitorPTS\"] - outcomeData[\"HomePTS\"]).astype(float)"
   ]
  },
  {
   "cell_type": "markdown",
   "metadata": {},
   "source": [
    "#### x data"
   ]
  },
  {
   "cell_type": "code",
   "execution_count": null,
   "metadata": {},
   "outputs": [],
   "source": [
    "def differentialVariableGenerator(outcomeData, teamData, teamDataColumn):\n",
    "                                  \n",
    "    global teamData_global\n",
    "    global counter \n",
    "    global differentialFeatureData\n",
    "    x = []\n",
    "    for col in teamDataColumn:\n",
    "        x.append(col + \"_home\")\n",
    "        x.append(col + \"_visitor\")\n",
    "    \n",
    "    differentialFeatureData = pd.DataFrame(index=range(outcomeData.shape[0]), columns = x)\n",
    "    print(outcomeData.shape[0])\n",
    "    teamData_global = teamData\n",
    "    totalCount = outcomeData.shape[0]\n",
    "    counter = 0\n",
    "    overallTime = time.time()\n",
    "    \n",
    "    def calcDifferences(row):\n",
    "                                  \n",
    "        global teamData_global\n",
    "        global counter\n",
    "                                  \n",
    "        counter = counter + 1;\n",
    "        start = time.time()\n",
    "        year = row['Year']\n",
    "        visitor = row['Visitor']\n",
    "        home = row['Home']\n",
    "                                  \n",
    "        def columnCalc(col):\n",
    "                                  \n",
    "            variable = col.name\n",
    "            var_home = variable+\"_home\"\n",
    "            var_visitor = variable+\"_visitor\"\n",
    "            year_subset = teamData_global.loc[(teamData_global.Year == year)]\n",
    "            \n",
    "            visitorValue = year_subset.loc[year_subset.Team.astype(str).str.contains(visitor)][variable]\n",
    "            homeValue = year_subset.loc[year_subset.Team.astype(str).str.contains(home)][variable]\n",
    "            \n",
    "            differentialFeatureData[var_home][counter-1] = homeValue.iloc[0]\n",
    "            differentialFeatureData[var_visitor][counter-1] = visitorValue.iloc[0]\n",
    "                                  \n",
    "        teamData_global[teamDataColumn].apply(columnCalc)\n",
    "        #print(differentialFeatureData)\n",
    "        print(visitor, home, time.time() - start,time.time() - overallTime)\n",
    "        print(\"{count}/{total}\".format(count = counter, total = totalCount))\n",
    "                                  \n",
    "    outcomeData.apply(calcDifferences, axis=1)\n",
    "    print(\"Total time {time} seconds\".format(time = time.time() - overallTime))\n",
    "    return differentialFeatureData"
   ]
  },
  {
   "cell_type": "code",
   "execution_count": null,
   "metadata": {
    "scrolled": true
   },
   "outputs": [],
   "source": [
    "testOutcomeData = differentialVariableGenerator(outcomeData, teamData, testTeamDataColumn)"
   ]
  },
  {
   "cell_type": "code",
   "execution_count": null,
   "metadata": {},
   "outputs": [],
   "source": [
    "testOutcomeData.to_csv('/Users/lorneez/projects/sports_predictor/Sports_Model/Data/feature_data.csv')\n",
    "testOutcomeData"
   ]
  },
  {
   "cell_type": "code",
   "execution_count": null,
   "metadata": {},
   "outputs": [],
   "source": [
    "x_columns = []\n",
    "for col in teamDataColumn:\n",
    "    x_columns.append(col + \"_DIFF\")\n",
    "print(x_columns)"
   ]
  },
  {
   "cell_type": "markdown",
   "metadata": {},
   "source": [
    "### Training Model"
   ]
  },
  {
   "cell_type": "code",
   "execution_count": null,
   "metadata": {},
   "outputs": [],
   "source": [
    "# target column (in this case, whether or not the home team will win)\n",
    "y = outcomeData[\"HomeWin\"]\n",
    "# y = outcomeData[\"Final Home Spread\"]\n",
    "\n",
    "# columns that will be used to make the prediction\n",
    "# X = outcomeData[x_columns]\n",
    "# X = testOutcomeData\n",
    "X_previous_wins = outcomeData[[\"HomeLastWin\", \"VisitorLastWin\"]].values\n",
    "X_win_streak = outcomeData[[\"HomeLastWin\", \"VisitorLastWin\", \"HomeWinStreak\", \"VisitorWinStreak\"]].values\n",
    "\n",
    "# X = outcomeData[[\"HomeLastWin\", \"VisitorLastWin\", \"HomeTeamRanksHigher\", \"HomeTeamWonLast\"]].values\n",
    "\n",
    "# set up scorer for testing accuracy\n",
    "scorer = make_scorer(f1_score, pos_label = None, average = \"weighted\")"
   ]
  },
  {
   "cell_type": "code",
   "execution_count": null,
   "metadata": {},
   "outputs": [],
   "source": [
    "# Set up train test split\n",
    "# X_train_1, X_test_1, y_train_1, y_test_1 = train_test_split(X_1, y, test_size=0.20, random_state=100)\n",
    "#X_train, X_test, y_train, y_test = train_test_split(X, y, test_size=0.20, random_state=100)"
   ]
  },
  {
   "cell_type": "code",
   "execution_count": null,
   "metadata": {},
   "outputs": [],
   "source": [
    "y_true = outcomeData[\"HomeWin\"].values\n",
    "\n",
    "# cross val score\n",
    "clf = RandomForestClassifier(random_state = 14)\n",
    "#scores = cross_val_score(clf, X_train, y_train, scoring=scorer)\n",
    "scores_previous_wins = cross_val_score(clf, X_previous_wins, y_true, scoring=scorer)\n",
    "scores_win_streak = cross_val_score(clf, X_win_streak, y_true, scoring=scorer)"
   ]
  },
  {
   "cell_type": "code",
   "execution_count": null,
   "metadata": {},
   "outputs": [],
   "source": [
    "# mean score\n",
    "y_pred = [1] * len(y_true)\n",
    "\n",
    "print(\"F1 Score to Beat: {:.4f}\".format(f1_score(y_true, y_pred, pos_label=None, average='weighted')))\n",
    "\n",
    "print(\"F1 Score with Previous Wins: {:.4f}\".format(np.mean(scores_previous_wins)))\n",
    "\n",
    "print(\"F1 Score with Win Streaks: {:.4f}\".format(np.mean(scores_win_streak)))\n"
   ]
  },
  {
   "cell_type": "code",
   "execution_count": null,
   "metadata": {},
   "outputs": [],
   "source": []
  }
 ],
 "metadata": {
  "kernelspec": {
   "display_name": "Python 3",
   "language": "python",
   "name": "python3"
  },
  "language_info": {
   "codemirror_mode": {
    "name": "ipython",
    "version": 3
   },
   "file_extension": ".py",
   "mimetype": "text/x-python",
   "name": "python",
   "nbconvert_exporter": "python",
   "pygments_lexer": "ipython3",
   "version": "3.7.6"
  }
 },
 "nbformat": 4,
 "nbformat_minor": 2
}
