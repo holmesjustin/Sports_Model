{
 "cells": [
  {
   "cell_type": "code",
   "execution_count": 89,
   "metadata": {},
   "outputs": [],
   "source": [
    "import pandas as pd\n",
    "from sklearn import ensemble\n",
    "from sklearn.ensemble import RandomForestClassifier\n",
    "from sklearn.metrics import f1_score, make_scorer, classification_report\n",
    "from sklearn.model_selection import train_test_split, cross_val_score\n",
    "from sklearn.preprocessing import LabelEncoder, OneHotEncoder\n",
    "import numpy as np\n",
    "from collections import defaultdict\n",
    "import time"
   ]
  },
  {
   "cell_type": "code",
   "execution_count": 90,
   "metadata": {},
   "outputs": [],
   "source": [
    "teamPath = '/Users/justinholmes/Desktop/Sports_Model/Data/teamData.csv'\n",
    "playerPath = '/Users/justinholmes/Desktop/Sports_Model/Data/playerData.csv'\n",
    "outcomePath = '/Users/justinholmes/Desktop/Sports_Model/Data/outcomeData.csv'"
   ]
  },
  {
   "cell_type": "code",
   "execution_count": 91,
   "metadata": {},
   "outputs": [],
   "source": [
    "teamData = pd.read_csv(teamPath)\n",
    "playerData = pd.read_csv(playerPath, engine='python')\n",
    "outcomeData = pd.read_csv(outcomePath)"
   ]
  },
  {
   "cell_type": "markdown",
   "metadata": {},
   "source": [
    "### Format all data"
   ]
  },
  {
   "cell_type": "code",
   "execution_count": 92,
   "metadata": {},
   "outputs": [],
   "source": [
    "# drop unwanted columns\n",
    "outcomeData = outcomeData.drop([\"Start Time\", \"Box Score\", \"Notes\"], axis=1)\n",
    "\n",
    "# change OT to integer value for number of OT rounds\n",
    "outcomeData.loc[(outcomeData[\"OT?\"].isna()),'OT?']= 0\n",
    "outcomeData.loc[(outcomeData[\"OT?\"] == \"OT\"),'OT?']= 1\n",
    "outcomeData.loc[(outcomeData[\"OT?\"] == \"2OT\"),'OT?']= 2\n",
    "outcomeData.loc[(outcomeData[\"OT?\"] == \"3OT\"),'OT?']= 3\n",
    "outcomeData.loc[(outcomeData[\"OT?\"] == \"4OT\"),'OT?']= 4"
   ]
  },
  {
   "cell_type": "code",
   "execution_count": 93,
   "metadata": {},
   "outputs": [],
   "source": [
    "def redefineTeamNames(dataframe):\n",
    "    dataframe = dataframe.replace('Seattle SuperSonics', 'Oklahoma City Thunder', regex=True)\n",
    "    \n",
    "    dataframe = dataframe.replace('New Orleans/Oklahoma City Hornets', 'New Orleans Pelicans', regex=True)\n",
    "\n",
    "    dataframe = dataframe.replace('New Orleans Hornets', 'New Orleans Pelicans', regex=True)\n",
    "    \n",
    "    dataframe = dataframe.replace('Charlotte Bobcats', 'Charlotte Hornets', regex=True)\n",
    "    \n",
    "    dataframe = dataframe.replace('New Jersey Nets', 'Brooklyn Nets', regex=True)\n",
    "    \n",
    "#     dataframe = dataframe.replace('*', '', regex=True)\n",
    "\n",
    "    return dataframe\n",
    "\n",
    "outcomeData = redefineTeamNames(outcomeData)\n",
    "teamData = redefineTeamNames(teamData)\n"
   ]
  },
  {
   "cell_type": "code",
   "execution_count": 94,
   "metadata": {},
   "outputs": [],
   "source": [
    "outcomeData[\"Final Home Spread\"] = (outcomeData[\"VisitorPTS\"] - outcomeData[\"HomePTS\"]).astype(float)"
   ]
  },
  {
   "cell_type": "code",
   "execution_count": 95,
   "metadata": {},
   "outputs": [
    {
     "data": {
      "text/html": [
       "<div>\n",
       "<style scoped>\n",
       "    .dataframe tbody tr th:only-of-type {\n",
       "        vertical-align: middle;\n",
       "    }\n",
       "\n",
       "    .dataframe tbody tr th {\n",
       "        vertical-align: top;\n",
       "    }\n",
       "\n",
       "    .dataframe thead th {\n",
       "        text-align: right;\n",
       "    }\n",
       "</style>\n",
       "<table border=\"1\" class=\"dataframe\">\n",
       "  <thead>\n",
       "    <tr style=\"text-align: right;\">\n",
       "      <th></th>\n",
       "      <th>Year</th>\n",
       "      <th>Month</th>\n",
       "      <th>Visitor</th>\n",
       "      <th>VisitorPTS</th>\n",
       "      <th>Home</th>\n",
       "      <th>HomePTS</th>\n",
       "      <th>OT?</th>\n",
       "      <th>Attend</th>\n",
       "      <th>Total Points</th>\n",
       "      <th>Winner</th>\n",
       "      <th>Final Home Spread</th>\n",
       "    </tr>\n",
       "  </thead>\n",
       "  <tbody>\n",
       "    <tr>\n",
       "      <th>0</th>\n",
       "      <td>2005</td>\n",
       "      <td>november</td>\n",
       "      <td>Houston Rockets</td>\n",
       "      <td>79</td>\n",
       "      <td>Detroit Pistons</td>\n",
       "      <td>87</td>\n",
       "      <td>0</td>\n",
       "      <td>22076</td>\n",
       "      <td>166</td>\n",
       "      <td>Detroit Pistons</td>\n",
       "      <td>-8.0</td>\n",
       "    </tr>\n",
       "    <tr>\n",
       "      <th>1</th>\n",
       "      <td>2005</td>\n",
       "      <td>november</td>\n",
       "      <td>Sacramento Kings</td>\n",
       "      <td>98</td>\n",
       "      <td>Dallas Mavericks</td>\n",
       "      <td>107</td>\n",
       "      <td>0</td>\n",
       "      <td>20041</td>\n",
       "      <td>205</td>\n",
       "      <td>Dallas Mavericks</td>\n",
       "      <td>-9.0</td>\n",
       "    </tr>\n",
       "    <tr>\n",
       "      <th>2</th>\n",
       "      <td>2005</td>\n",
       "      <td>november</td>\n",
       "      <td>Denver Nuggets</td>\n",
       "      <td>78</td>\n",
       "      <td>Los Angeles Lakers</td>\n",
       "      <td>89</td>\n",
       "      <td>0</td>\n",
       "      <td>18997</td>\n",
       "      <td>167</td>\n",
       "      <td>Los Angeles Lakers</td>\n",
       "      <td>-11.0</td>\n",
       "    </tr>\n",
       "    <tr>\n",
       "      <th>3</th>\n",
       "      <td>2005</td>\n",
       "      <td>november</td>\n",
       "      <td>Indiana Pacers</td>\n",
       "      <td>109</td>\n",
       "      <td>Cleveland Cavaliers</td>\n",
       "      <td>104</td>\n",
       "      <td>2</td>\n",
       "      <td>19730</td>\n",
       "      <td>213</td>\n",
       "      <td>Indiana Pacers</td>\n",
       "      <td>5.0</td>\n",
       "    </tr>\n",
       "    <tr>\n",
       "      <th>4</th>\n",
       "      <td>2005</td>\n",
       "      <td>november</td>\n",
       "      <td>Milwaukee Bucks</td>\n",
       "      <td>92</td>\n",
       "      <td>Orlando Magic</td>\n",
       "      <td>93</td>\n",
       "      <td>0</td>\n",
       "      <td>15138</td>\n",
       "      <td>185</td>\n",
       "      <td>Orlando Magic</td>\n",
       "      <td>-1.0</td>\n",
       "    </tr>\n",
       "  </tbody>\n",
       "</table>\n",
       "</div>"
      ],
      "text/plain": [
       "   Year     Month           Visitor  VisitorPTS                 Home  HomePTS  \\\n",
       "0  2005  november   Houston Rockets          79      Detroit Pistons       87   \n",
       "1  2005  november  Sacramento Kings          98     Dallas Mavericks      107   \n",
       "2  2005  november    Denver Nuggets          78   Los Angeles Lakers       89   \n",
       "3  2005  november    Indiana Pacers         109  Cleveland Cavaliers      104   \n",
       "4  2005  november   Milwaukee Bucks          92        Orlando Magic       93   \n",
       "\n",
       "   OT?  Attend  Total Points              Winner  Final Home Spread  \n",
       "0    0   22076           166     Detroit Pistons               -8.0  \n",
       "1    0   20041           205    Dallas Mavericks               -9.0  \n",
       "2    0   18997           167  Los Angeles Lakers              -11.0  \n",
       "3    2   19730           213      Indiana Pacers                5.0  \n",
       "4    0   15138           185       Orlando Magic               -1.0  "
      ]
     },
     "execution_count": 95,
     "metadata": {},
     "output_type": "execute_result"
    }
   ],
   "source": [
    "outcomeData.head()"
   ]
  },
  {
   "cell_type": "code",
   "execution_count": 96,
   "metadata": {},
   "outputs": [
    {
     "data": {
      "text/html": [
       "<div>\n",
       "<style scoped>\n",
       "    .dataframe tbody tr th:only-of-type {\n",
       "        vertical-align: middle;\n",
       "    }\n",
       "\n",
       "    .dataframe tbody tr th {\n",
       "        vertical-align: top;\n",
       "    }\n",
       "\n",
       "    .dataframe thead th {\n",
       "        text-align: right;\n",
       "    }\n",
       "</style>\n",
       "<table border=\"1\" class=\"dataframe\">\n",
       "  <thead>\n",
       "    <tr style=\"text-align: right;\">\n",
       "      <th></th>\n",
       "      <th>Team</th>\n",
       "      <th>Year</th>\n",
       "      <th>G_PG</th>\n",
       "      <th>MP_PG</th>\n",
       "      <th>FG_PG</th>\n",
       "      <th>FGA_PG</th>\n",
       "      <th>FG%_PG</th>\n",
       "      <th>3P_PG</th>\n",
       "      <th>3PA_PG</th>\n",
       "      <th>3P%_PG</th>\n",
       "      <th>...</th>\n",
       "      <th>TOV%</th>\n",
       "      <th>ORB%</th>\n",
       "      <th>FT/FGA</th>\n",
       "      <th>eFG%.1</th>\n",
       "      <th>TOV%.1</th>\n",
       "      <th>DRB%</th>\n",
       "      <th>FT/FGA.1</th>\n",
       "      <th>Arena</th>\n",
       "      <th>Attend.</th>\n",
       "      <th>Attend./G</th>\n",
       "    </tr>\n",
       "  </thead>\n",
       "  <tbody>\n",
       "    <tr>\n",
       "      <th>0</th>\n",
       "      <td>Phoenix Suns*</td>\n",
       "      <td>2005</td>\n",
       "      <td>82</td>\n",
       "      <td>241.2</td>\n",
       "      <td>40.9</td>\n",
       "      <td>85.6</td>\n",
       "      <td>0.477</td>\n",
       "      <td>9.7</td>\n",
       "      <td>24.7</td>\n",
       "      <td>0.393</td>\n",
       "      <td>...</td>\n",
       "      <td>12.4</td>\n",
       "      <td>27.5</td>\n",
       "      <td>0.222</td>\n",
       "      <td>0.478</td>\n",
       "      <td>12.0</td>\n",
       "      <td>68.3</td>\n",
       "      <td>0.176</td>\n",
       "      <td>America West Arena</td>\n",
       "      <td>726,066</td>\n",
       "      <td>17,709</td>\n",
       "    </tr>\n",
       "    <tr>\n",
       "      <th>1</th>\n",
       "      <td>Sacramento Kings*</td>\n",
       "      <td>2005</td>\n",
       "      <td>82</td>\n",
       "      <td>242.1</td>\n",
       "      <td>39.1</td>\n",
       "      <td>85.1</td>\n",
       "      <td>0.459</td>\n",
       "      <td>6.4</td>\n",
       "      <td>17.0</td>\n",
       "      <td>0.374</td>\n",
       "      <td>...</td>\n",
       "      <td>12.0</td>\n",
       "      <td>28.8</td>\n",
       "      <td>0.226</td>\n",
       "      <td>0.493</td>\n",
       "      <td>13.3</td>\n",
       "      <td>69.0</td>\n",
       "      <td>0.214</td>\n",
       "      <td>ARCO Arena (II)</td>\n",
       "      <td>709,997</td>\n",
       "      <td>17,317</td>\n",
       "    </tr>\n",
       "    <tr>\n",
       "      <th>2</th>\n",
       "      <td>Dallas Mavericks*</td>\n",
       "      <td>2005</td>\n",
       "      <td>82</td>\n",
       "      <td>240.6</td>\n",
       "      <td>37.3</td>\n",
       "      <td>81.6</td>\n",
       "      <td>0.457</td>\n",
       "      <td>5.6</td>\n",
       "      <td>15.5</td>\n",
       "      <td>0.364</td>\n",
       "      <td>...</td>\n",
       "      <td>12.5</td>\n",
       "      <td>28.6</td>\n",
       "      <td>0.273</td>\n",
       "      <td>0.472</td>\n",
       "      <td>14.3</td>\n",
       "      <td>70.2</td>\n",
       "      <td>0.239</td>\n",
       "      <td>American Airlines Center</td>\n",
       "      <td>822,533</td>\n",
       "      <td>20,062</td>\n",
       "    </tr>\n",
       "    <tr>\n",
       "      <th>3</th>\n",
       "      <td>Miami Heat*</td>\n",
       "      <td>2005</td>\n",
       "      <td>82</td>\n",
       "      <td>243.7</td>\n",
       "      <td>37.8</td>\n",
       "      <td>77.7</td>\n",
       "      <td>0.486</td>\n",
       "      <td>5.8</td>\n",
       "      <td>15.4</td>\n",
       "      <td>0.377</td>\n",
       "      <td>...</td>\n",
       "      <td>13.1</td>\n",
       "      <td>27.0</td>\n",
       "      <td>0.260</td>\n",
       "      <td>0.460</td>\n",
       "      <td>12.4</td>\n",
       "      <td>74.1</td>\n",
       "      <td>0.242</td>\n",
       "      <td>AmericanAirlines Arena</td>\n",
       "      <td>815,143</td>\n",
       "      <td>19,882</td>\n",
       "    </tr>\n",
       "    <tr>\n",
       "      <th>4</th>\n",
       "      <td>Boston Celtics*</td>\n",
       "      <td>2005</td>\n",
       "      <td>82</td>\n",
       "      <td>242.4</td>\n",
       "      <td>37.1</td>\n",
       "      <td>79.4</td>\n",
       "      <td>0.468</td>\n",
       "      <td>5.3</td>\n",
       "      <td>15.3</td>\n",
       "      <td>0.349</td>\n",
       "      <td>...</td>\n",
       "      <td>14.7</td>\n",
       "      <td>27.2</td>\n",
       "      <td>0.273</td>\n",
       "      <td>0.481</td>\n",
       "      <td>14.2</td>\n",
       "      <td>70.1</td>\n",
       "      <td>0.274</td>\n",
       "      <td>FleetCenter</td>\n",
       "      <td>656,081</td>\n",
       "      <td>16,002</td>\n",
       "    </tr>\n",
       "  </tbody>\n",
       "</table>\n",
       "<p>5 rows × 120 columns</p>\n",
       "</div>"
      ],
      "text/plain": [
       "                Team  Year  G_PG  MP_PG  FG_PG  FGA_PG  FG%_PG  3P_PG  3PA_PG  \\\n",
       "0      Phoenix Suns*  2005    82  241.2   40.9    85.6   0.477    9.7    24.7   \n",
       "1  Sacramento Kings*  2005    82  242.1   39.1    85.1   0.459    6.4    17.0   \n",
       "2  Dallas Mavericks*  2005    82  240.6   37.3    81.6   0.457    5.6    15.5   \n",
       "3        Miami Heat*  2005    82  243.7   37.8    77.7   0.486    5.8    15.4   \n",
       "4    Boston Celtics*  2005    82  242.4   37.1    79.4   0.468    5.3    15.3   \n",
       "\n",
       "   3P%_PG  ...  TOV%  ORB%  FT/FGA  eFG%.1  TOV%.1  DRB%  FT/FGA.1  \\\n",
       "0   0.393  ...  12.4  27.5   0.222   0.478    12.0  68.3     0.176   \n",
       "1   0.374  ...  12.0  28.8   0.226   0.493    13.3  69.0     0.214   \n",
       "2   0.364  ...  12.5  28.6   0.273   0.472    14.3  70.2     0.239   \n",
       "3   0.377  ...  13.1  27.0   0.260   0.460    12.4  74.1     0.242   \n",
       "4   0.349  ...  14.7  27.2   0.273   0.481    14.2  70.1     0.274   \n",
       "\n",
       "                      Arena  Attend.  Attend./G  \n",
       "0        America West Arena  726,066     17,709  \n",
       "1           ARCO Arena (II)  709,997     17,317  \n",
       "2  American Airlines Center  822,533     20,062  \n",
       "3    AmericanAirlines Arena  815,143     19,882  \n",
       "4               FleetCenter  656,081     16,002  \n",
       "\n",
       "[5 rows x 120 columns]"
      ]
     },
     "execution_count": 96,
     "metadata": {},
     "output_type": "execute_result"
    }
   ],
   "source": [
    "teamData.head()"
   ]
  },
  {
   "cell_type": "code",
   "execution_count": 97,
   "metadata": {},
   "outputs": [],
   "source": [
    "teamDataColumn = teamData.drop(['Team', \"Year\", \"Arena\", \"Attend.\", \"Attend./G\"], axis=1).columns"
   ]
  },
  {
   "cell_type": "code",
   "execution_count": 98,
   "metadata": {},
   "outputs": [],
   "source": [
    "variableNameList = []\n",
    "\n",
    "for col in teamDataColumn:\n",
    "    variableNameList.append([col + \"_DIFF\", col])"
   ]
  },
  {
   "cell_type": "markdown",
   "metadata": {},
   "source": [
    "## Functions for additional calculations"
   ]
  },
  {
   "cell_type": "code",
   "execution_count": null,
   "metadata": {},
   "outputs": [],
   "source": [
    "def homeWin(dataframe):\n",
    "    if dataframe['Winner'] == dataframe['Home']:\n",
    "        return True\n",
    "    else:\n",
    "        return False\n",
    "\n",
    "outcomeData['HomeWin'] = outcomeData.apply(homeWin, axis=1)"
   ]
  },
  {
   "cell_type": "code",
   "execution_count": null,
   "metadata": {},
   "outputs": [],
   "source": [
    "outcomeData.head()"
   ]
  },
  {
   "cell_type": "code",
   "execution_count": null,
   "metadata": {},
   "outputs": [],
   "source": [
    "# def pointDiff(dataframe):\n",
    "    \n",
    "#     if teamData['Year'] == outcomeData[\"Year\"] and teamData['Team'] == outcomeData[\"Home\"]:\n",
    "#         homeScore = teamData['PTS_PG']\n",
    "#     if teamData['Year'] == outcomeData[\"Year\"] and teamData['Team'] == outcomeData[\"Visitor\"]:\n",
    "#         awayScore = teamData['PTS_PG']\n",
    "        \n",
    "#     pointDiff = homeScore-awayScore\n",
    "    \n",
    "#     return pointDiff"
   ]
  },
  {
   "cell_type": "code",
   "execution_count": null,
   "metadata": {},
   "outputs": [],
   "source": [
    "# outcomeData['pointDiff'] = outcomeData.apply(lambda x: teamData.loc[x['Year'] == teamData['Year'],\n",
    "#                                                teamData.loc[x['Home'] == teamData[\"Team\"], x[\"PTS_PG\"] - \n",
    "#                                                             teamData.loc[x['Year'] == teamData['Year'],\n",
    "#                                                teamData.loc[x['Visitor'] == teamData[\"Team\"], x[\"PTS_PG\"]].reset_index(drop=True), axis=1)\n",
    "\n"
   ]
  },
  {
   "cell_type": "code",
   "execution_count": null,
   "metadata": {},
   "outputs": [],
   "source": [
    "# outcomeData['pointDiff'] = outcomeData.apply(pointDiff, axis=1)"
   ]
  },
  {
   "cell_type": "markdown",
   "metadata": {},
   "source": [
    "#### Encode team names"
   ]
  },
  {
   "cell_type": "code",
   "execution_count": null,
   "metadata": {},
   "outputs": [],
   "source": [
    "encoding = LabelEncoder()\n",
    "encoding.fit(outcomeData['Home'].values)\n",
    "outcomeData['Home'] = encoding.transform(outcomeData['Home'].values)\n",
    "outcomeData['Visitor'] = encoding.transform(outcomeData['Visitor'].values)"
   ]
  },
  {
   "cell_type": "code",
   "execution_count": null,
   "metadata": {},
   "outputs": [],
   "source": [
    "outcomeData.head()"
   ]
  },
  {
   "cell_type": "markdown",
   "metadata": {},
   "source": [
    "### Calculating a basis level by always predicting the home team will win"
   ]
  },
  {
   "cell_type": "code",
   "execution_count": null,
   "metadata": {},
   "outputs": [],
   "source": [
    "# target column (in this case, whether or not the home team will win)\n",
    "y = outcomeData[\"HomeWin\"].to_numpy()\n",
    "\n",
    "# columns that will be used to make the prediction\n",
    "X = outcomeData[[\"Visitor\", \"Home\"]]\n",
    "\n",
    "# set up scorer for testing accuracy\n",
    "scorer = make_scorer(f1_score, pos_label = None, average = \"weighted\")"
   ]
  },
  {
   "cell_type": "code",
   "execution_count": null,
   "metadata": {},
   "outputs": [],
   "source": [
    "# Set up train test split\n",
    "X_train, X_test, y_train, y_test = train_test_split(X, y, test_size=0.20, random_state=100)"
   ]
  },
  {
   "cell_type": "markdown",
   "metadata": {},
   "source": [
    "#### Accuracy of only guessing home team"
   ]
  },
  {
   "cell_type": "code",
   "execution_count": null,
   "metadata": {},
   "outputs": [],
   "source": [
    "basis_level = np.count_nonzero(y_train)/len(y_train)\n",
    "basis_level"
   ]
  },
  {
   "cell_type": "markdown",
   "metadata": {},
   "source": [
    "#### F1 score of only guessing home team"
   ]
  },
  {
   "cell_type": "code",
   "execution_count": null,
   "metadata": {},
   "outputs": [],
   "source": [
    "y_pred = [1] * len(y_train)\n",
    "f1_score(y_train, y_pred, pos_label = None, average = \"weighted\")"
   ]
  },
  {
   "cell_type": "markdown",
   "metadata": {},
   "source": [
    "### Testing with additional variables"
   ]
  },
  {
   "cell_type": "code",
   "execution_count": null,
   "metadata": {},
   "outputs": [],
   "source": [
    "# target column we want to predict\n",
    "y = outcomeData[\"Final Home Spread\"].to_numpy()\n",
    "\n",
    "# columns that will be used to make the prediction\n",
    "X = outcomeData[[\"Visitor\", \"Home\"]]\n",
    "\n",
    "# set up scorer for testing accuracy\n",
    "scorer = make_scorer(f1_score, pos_label = None, average = \"weighted\")"
   ]
  },
  {
   "cell_type": "code",
   "execution_count": null,
   "metadata": {},
   "outputs": [],
   "source": [
    "# Set up train test split\n",
    "X_train, X_test, y_train, y_test = train_test_split(X, y, test_size=0.20, random_state=100)"
   ]
  },
  {
   "cell_type": "code",
   "execution_count": null,
   "metadata": {},
   "outputs": [],
   "source": [
    "clf = RandomForestClassifier(random_state = 14)\n",
    "clf.fit(X_train, y_train)\n",
    "#clf.score(X_test, y_test)\n",
    "scores = cross_val_score(clf, X_train, y_train, scoring=scorer)"
   ]
  },
  {
   "cell_type": "code",
   "execution_count": null,
   "metadata": {},
   "outputs": [],
   "source": [
    "np.mean(scores)"
   ]
  },
  {
   "cell_type": "code",
   "execution_count": null,
   "metadata": {},
   "outputs": [],
   "source": []
  }
 ],
 "metadata": {
  "kernelspec": {
   "display_name": "Python 3",
   "language": "python",
   "name": "python3"
  },
  "language_info": {
   "codemirror_mode": {
    "name": "ipython",
    "version": 3
   },
   "file_extension": ".py",
   "mimetype": "text/x-python",
   "name": "python",
   "nbconvert_exporter": "python",
   "pygments_lexer": "ipython3",
   "version": "3.7.6"
  }
 },
 "nbformat": 4,
 "nbformat_minor": 4
}
