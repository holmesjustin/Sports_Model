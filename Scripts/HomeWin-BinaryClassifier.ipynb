{
 "cells": [
  {
   "cell_type": "code",
   "execution_count": 1,
   "metadata": {},
   "outputs": [],
   "source": [
    "#import tensorflow as tf\n",
    "import pandas as pd\n",
    "from sklearn.preprocessing import LabelEncoder\n",
    "from sklearn.model_selection import train_test_split, cross_val_score\n",
    "import numpy as np"
   ]
  },
  {
   "cell_type": "code",
   "execution_count": 2,
   "metadata": {},
   "outputs": [],
   "source": [
    "teamPath = '/Users/lorneez/projects/sports_predictor/Sports_Model/Data/teamData.csv'\n",
    "playerPath = '/Users/lorneez/projects/sports_predictor/Sports_Model/Data/playerData.csv'\n",
    "outcomePath = '/Users/lorneez/projects/sports_predictor/Sports_Model/Data/outcomeData.csv'\n",
    "teamData = pd.read_csv(teamPath)\n",
    "playerData = pd.read_csv(playerPath, engine='python')\n",
    "outcomeData = pd.read_csv(outcomePath)"
   ]
  },
  {
   "cell_type": "code",
   "execution_count": 3,
   "metadata": {},
   "outputs": [],
   "source": [
    "outcomeData = outcomeData.drop([\"Start Time\", \"Box Score\", \"Notes\"], axis=1)"
   ]
  },
  {
   "cell_type": "code",
   "execution_count": 4,
   "metadata": {},
   "outputs": [],
   "source": [
    "outcomeData.loc[(outcomeData[\"OT?\"].isna()),'OT?']= 0\n",
    "outcomeData.loc[(outcomeData[\"OT?\"] == \"OT\"),'OT?']= 1\n",
    "outcomeData.loc[(outcomeData[\"OT?\"] == \"2OT\"),'OT?']= 2\n",
    "outcomeData.loc[(outcomeData[\"OT?\"] == \"3OT\"),'OT?']= 3\n",
    "outcomeData.loc[(outcomeData[\"OT?\"] == \"4OT\"),'OT?']= 4"
   ]
  },
  {
   "cell_type": "code",
   "execution_count": 5,
   "metadata": {},
   "outputs": [],
   "source": [
    "def redefineTeamNames(dataframe):\n",
    "    dataframe = dataframe.replace('Seattle SuperSonics', 'Oklahoma City Thunder', regex=True)\n",
    "    \n",
    "    dataframe = dataframe.replace('New Orleans/Oklahoma City Hornets', 'New Orleans Pelicans', regex=True)\n",
    "\n",
    "    dataframe = dataframe.replace('New Orleans Hornets', 'New Orleans Pelicans', regex=True)\n",
    "    \n",
    "    dataframe = dataframe.replace('Charlotte Bobcats', 'Charlotte Hornets', regex=True)\n",
    "    \n",
    "    dataframe = dataframe.replace('New Jersey Nets', 'Brooklyn Nets', regex=True)\n",
    "    \n",
    "#     dataframe = dataframe.replace('*', '', regex=True)\n",
    "\n",
    "    return dataframe\n",
    "\n",
    "outcomeData = redefineTeamNames(outcomeData)"
   ]
  },
  {
   "cell_type": "code",
   "execution_count": 6,
   "metadata": {},
   "outputs": [],
   "source": [
    "def homeWin(dataframe):\n",
    "    if dataframe['Winner'] == dataframe['Home']:\n",
    "        return True\n",
    "    else:\n",
    "        return False\n",
    "\n",
    "outcomeData['HomeWin'] = outcomeData.apply(homeWin, axis=1)"
   ]
  },
  {
   "cell_type": "code",
   "execution_count": 7,
   "metadata": {},
   "outputs": [],
   "source": [
    "encoding = LabelEncoder()\n",
    "encoding.fit(outcomeData['Home'].values)\n",
    "outcomeData['Home'] = encoding.transform(outcomeData['Home'].values)\n",
    "outcomeData['Visitor'] = encoding.transform(outcomeData['Visitor'].values)"
   ]
  },
  {
   "cell_type": "code",
   "execution_count": 53,
   "metadata": {},
   "outputs": [],
   "source": [
    "featurePath = '/Users/lorneez/projects/sports_predictor/Sports_Model/Data/DifferentialFeatureData.csv'\n",
    "X = pd.read_csv(featurePath)\n",
    "y = outcomeData[\"HomeWin\"]\n",
    "X_train, X_test, y_train, y_test = train_test_split(X, y, test_size=0.3)\n",
    "validation_data = (X_test, y_test)"
   ]
  },
  {
   "cell_type": "code",
   "execution_count": 59,
   "metadata": {},
   "outputs": [],
   "source": [
    "from keras import Sequential\n",
    "from keras.layers import Dense, Dropout\n",
    "\n",
    "classifier = Sequential()\n",
    "#First Hidden Layer\n",
    "classifier.add(Dense(64, activation='relu', kernel_initializer='random_normal', input_dim=113))\n",
    "classifier.add(Dropout(.5))\n",
    "#Second  Hidden Layer\n",
    "classifier.add(Dense(64, activation='relu', kernel_initializer='random_normal'))\n",
    "classifier.add(Dropout(.5))\n",
    "#Third  Hidden Layer\n",
    "classifier.add(Dense(64, activation='relu', kernel_initializer='random_normal'))\n",
    "classifier.add(Dropout(.5))\n",
    "#Output Layer\n",
    "classifier.add(Dense(1, activation='sigmoid', kernel_initializer='random_normal'))\n",
    "\n",
    "#Compiling the neural network\n",
    "classifier.compile(optimizer ='adam',loss='binary_crossentropy', metrics =['accuracy'])"
   ]
  },
  {
   "cell_type": "code",
   "execution_count": 60,
   "metadata": {
    "scrolled": true
   },
   "outputs": [
    {
     "name": "stdout",
     "output_type": "stream",
     "text": [
      "Train on 14303 samples, validate on 6131 samples\n",
      "Epoch 1/100\n",
      "14303/14303 [==============================] - 2s 152us/step - loss: 0.6311 - accuracy: 0.6450 - val_loss: 0.5809 - val_accuracy: 0.6909\n",
      "Epoch 2/100\n",
      "14303/14303 [==============================] - 3s 179us/step - loss: 0.6032 - accuracy: 0.6809 - val_loss: 0.5817 - val_accuracy: 0.6898\n",
      "Epoch 3/100\n",
      "14303/14303 [==============================] - 1s 89us/step - loss: 0.5984 - accuracy: 0.6814 - val_loss: 0.5818 - val_accuracy: 0.6987\n",
      "Epoch 4/100\n",
      "14303/14303 [==============================] - 1s 89us/step - loss: 0.5959 - accuracy: 0.6866 - val_loss: 0.5808 - val_accuracy: 0.6983\n",
      "Epoch 5/100\n",
      "14303/14303 [==============================] - 1s 77us/step - loss: 0.5939 - accuracy: 0.6838 - val_loss: 0.5766 - val_accuracy: 0.6974\n",
      "Epoch 6/100\n",
      "14303/14303 [==============================] - 1s 97us/step - loss: 0.5942 - accuracy: 0.6885 - val_loss: 0.5831 - val_accuracy: 0.6992\n",
      "Epoch 7/100\n",
      "14303/14303 [==============================] - 1s 67us/step - loss: 0.5910 - accuracy: 0.6880 - val_loss: 0.5805 - val_accuracy: 0.7004\n",
      "Epoch 8/100\n",
      "14303/14303 [==============================] - 1s 61us/step - loss: 0.5928 - accuracy: 0.6864 - val_loss: 0.5824 - val_accuracy: 0.6979\n",
      "Epoch 9/100\n",
      "14303/14303 [==============================] - 1s 55us/step - loss: 0.5936 - accuracy: 0.6840 - val_loss: 0.5844 - val_accuracy: 0.6983\n",
      "Epoch 10/100\n",
      "14303/14303 [==============================] - 1s 84us/step - loss: 0.5925 - accuracy: 0.6855 - val_loss: 0.5863 - val_accuracy: 0.7000\n",
      "Epoch 11/100\n",
      "14303/14303 [==============================] - 1s 74us/step - loss: 0.5902 - accuracy: 0.6871 - val_loss: 0.5754 - val_accuracy: 0.7009\n",
      "Epoch 12/100\n",
      "14303/14303 [==============================] - 1s 90us/step - loss: 0.5929 - accuracy: 0.6862 - val_loss: 0.5790 - val_accuracy: 0.7020\n",
      "Epoch 13/100\n",
      "14303/14303 [==============================] - 1s 87us/step - loss: 0.5915 - accuracy: 0.6880 - val_loss: 0.5825 - val_accuracy: 0.6984\n",
      "Epoch 14/100\n",
      "14303/14303 [==============================] - 1s 78us/step - loss: 0.5892 - accuracy: 0.6868 - val_loss: 0.5789 - val_accuracy: 0.6997\n",
      "Epoch 15/100\n",
      "14303/14303 [==============================] - 1s 74us/step - loss: 0.5925 - accuracy: 0.6870 - val_loss: 0.5760 - val_accuracy: 0.6992\n",
      "Epoch 16/100\n",
      "14303/14303 [==============================] - 1s 87us/step - loss: 0.5917 - accuracy: 0.6864 - val_loss: 0.5740 - val_accuracy: 0.7031\n",
      "Epoch 17/100\n",
      "14303/14303 [==============================] - 1s 79us/step - loss: 0.5898 - accuracy: 0.6881 - val_loss: 0.5802 - val_accuracy: 0.7012\n",
      "Epoch 18/100\n",
      "14303/14303 [==============================] - 1s 93us/step - loss: 0.5927 - accuracy: 0.6844 - val_loss: 0.5858 - val_accuracy: 0.7017\n",
      "Epoch 19/100\n",
      "14303/14303 [==============================] - 1s 88us/step - loss: 0.5892 - accuracy: 0.6855 - val_loss: 0.5765 - val_accuracy: 0.7022\n",
      "Epoch 20/100\n",
      "14303/14303 [==============================] - 1s 88us/step - loss: 0.5914 - accuracy: 0.6873 - val_loss: 0.5793 - val_accuracy: 0.7033\n",
      "Epoch 21/100\n",
      "14303/14303 [==============================] - 1s 80us/step - loss: 0.5913 - accuracy: 0.6898 - val_loss: 0.5812 - val_accuracy: 0.6986\n",
      "Epoch 22/100\n",
      "14303/14303 [==============================] - 1s 71us/step - loss: 0.5886 - accuracy: 0.6896 - val_loss: 0.5742 - val_accuracy: 0.7017\n",
      "Epoch 23/100\n",
      "14303/14303 [==============================] - 1s 78us/step - loss: 0.5882 - accuracy: 0.6874 - val_loss: 0.5848 - val_accuracy: 0.6996\n",
      "Epoch 24/100\n",
      "14303/14303 [==============================] - 1s 81us/step - loss: 0.5907 - accuracy: 0.6839 - val_loss: 0.5774 - val_accuracy: 0.7031\n",
      "Epoch 25/100\n",
      "14303/14303 [==============================] - 1s 95us/step - loss: 0.5881 - accuracy: 0.6912 - val_loss: 0.5800 - val_accuracy: 0.7007\n",
      "Epoch 26/100\n",
      "14303/14303 [==============================] - 1s 68us/step - loss: 0.5898 - accuracy: 0.6887 - val_loss: 0.5767 - val_accuracy: 0.7027\n",
      "Epoch 00026: early stopping\n"
     ]
    },
    {
     "data": {
      "text/plain": [
       "<keras.callbacks.callbacks.History at 0x1a212dda10>"
      ]
     },
     "execution_count": 60,
     "metadata": {},
     "output_type": "execute_result"
    }
   ],
   "source": [
    "from keras.callbacks import EarlyStopping\n",
    "#Fitting the data to the training dataset\n",
    "es = EarlyStopping(monitor='val_loss', mode='min', verbose=1, patience = 10)\n",
    "classifier.fit(X_train,y_train, validation_data = validation_data, batch_size=128, epochs=100, callbacks=[es])"
   ]
  },
  {
   "cell_type": "code",
   "execution_count": 61,
   "metadata": {},
   "outputs": [
    {
     "name": "stdout",
     "output_type": "stream",
     "text": [
      "6131/6131 [==============================] - 1s 96us/step\n"
     ]
    },
    {
     "data": {
      "text/plain": [
       "[0.5766993537751793, 0.7026585936546326]"
      ]
     },
     "execution_count": 61,
     "metadata": {},
     "output_type": "execute_result"
    }
   ],
   "source": [
    "#eval_model=classifier.evaluate(X_train, y_train)\n",
    "#eval_model\n",
    "eval_model=classifier.evaluate(X_test, y_test)\n",
    "eval_model"
   ]
  },
  {
   "cell_type": "code",
   "execution_count": 45,
   "metadata": {},
   "outputs": [
    {
     "name": "stdout",
     "output_type": "stream",
     "text": [
      "[[0.20229256]\n",
      " [0.60726887]\n",
      " [0.51420593]\n",
      " ...\n",
      " [0.8662132 ]\n",
      " [0.53903145]\n",
      " [0.8276886 ]]\n"
     ]
    }
   ],
   "source": [
    "from sklearn.metrics import confusion_matrix\n",
    "\n",
    "y_pred=classifier.predict(X_test)\n",
    "y_pred =(y_pred> 0.6)\n"
   ]
  },
  {
   "cell_type": "code",
   "execution_count": 43,
   "metadata": {},
   "outputs": [
    {
     "name": "stdout",
     "output_type": "stream",
     "text": [
      "[[1483  990]\n",
      " [1106 2552]]\n"
     ]
    }
   ],
   "source": [
    "cm = confusion_matrix(y_test, y_pred)\n",
    "print(cm)"
   ]
  },
  {
   "cell_type": "code",
   "execution_count": 33,
   "metadata": {},
   "outputs": [
    {
     "data": {
      "text/plain": [
       "0.6625346599249714"
      ]
     },
     "execution_count": 33,
     "metadata": {},
     "output_type": "execute_result"
    }
   ],
   "source": [
    "(1042+3020)/(3020+1042+1431+638)"
   ]
  },
  {
   "cell_type": "code",
   "execution_count": null,
   "metadata": {},
   "outputs": [],
   "source": []
  }
 ],
 "metadata": {
  "kernelspec": {
   "display_name": "Python 3",
   "language": "python",
   "name": "python3"
  },
  "language_info": {
   "codemirror_mode": {
    "name": "ipython",
    "version": 3
   },
   "file_extension": ".py",
   "mimetype": "text/x-python",
   "name": "python",
   "nbconvert_exporter": "python",
   "pygments_lexer": "ipython3",
   "version": "3.7.6"
  }
 },
 "nbformat": 4,
 "nbformat_minor": 4
}
