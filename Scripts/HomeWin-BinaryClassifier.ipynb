{
 "cells": [
  {
   "cell_type": "code",
   "execution_count": 9,
   "metadata": {},
   "outputs": [],
   "source": [
    "#import tensorflow as tf\n",
    "import pandas as pd\n",
    "from sklearn.preprocessing import LabelEncoder\n",
    "from sklearn.model_selection import train_test_split, cross_val_score\n",
    "import numpy as np"
   ]
  },
  {
   "cell_type": "code",
   "execution_count": 2,
   "metadata": {},
   "outputs": [],
   "source": [
    "teamPath = '/Users/lorneez/projects/sports_predictor/Sports_Model/Data/teamData.csv'\n",
    "playerPath = '/Users/lorneez/projects/sports_predictor/Sports_Model/Data/playerData.csv'\n",
    "outcomePath = '/Users/lorneez/projects/sports_predictor/Sports_Model/Data/outcomeData.csv'\n",
    "teamData = pd.read_csv(teamPath)\n",
    "playerData = pd.read_csv(playerPath, engine='python')\n",
    "outcomeData = pd.read_csv(outcomePath)"
   ]
  },
  {
   "cell_type": "code",
   "execution_count": 3,
   "metadata": {},
   "outputs": [],
   "source": [
    "outcomeData = outcomeData.drop([\"Start Time\", \"Box Score\", \"Notes\"], axis=1)"
   ]
  },
  {
   "cell_type": "code",
   "execution_count": 4,
   "metadata": {},
   "outputs": [],
   "source": [
    "outcomeData.loc[(outcomeData[\"OT?\"].isna()),'OT?']= 0\n",
    "outcomeData.loc[(outcomeData[\"OT?\"] == \"OT\"),'OT?']= 1\n",
    "outcomeData.loc[(outcomeData[\"OT?\"] == \"2OT\"),'OT?']= 2\n",
    "outcomeData.loc[(outcomeData[\"OT?\"] == \"3OT\"),'OT?']= 3\n",
    "outcomeData.loc[(outcomeData[\"OT?\"] == \"4OT\"),'OT?']= 4"
   ]
  },
  {
   "cell_type": "code",
   "execution_count": 5,
   "metadata": {},
   "outputs": [],
   "source": [
    "def redefineTeamNames(dataframe):\n",
    "    dataframe = dataframe.replace('Seattle SuperSonics', 'Oklahoma City Thunder', regex=True)\n",
    "    \n",
    "    dataframe = dataframe.replace('New Orleans/Oklahoma City Hornets', 'New Orleans Pelicans', regex=True)\n",
    "\n",
    "    dataframe = dataframe.replace('New Orleans Hornets', 'New Orleans Pelicans', regex=True)\n",
    "    \n",
    "    dataframe = dataframe.replace('Charlotte Bobcats', 'Charlotte Hornets', regex=True)\n",
    "    \n",
    "    dataframe = dataframe.replace('New Jersey Nets', 'Brooklyn Nets', regex=True)\n",
    "    \n",
    "#     dataframe = dataframe.replace('*', '', regex=True)\n",
    "\n",
    "    return dataframe\n",
    "\n",
    "outcomeData = redefineTeamNames(outcomeData)"
   ]
  },
  {
   "cell_type": "code",
   "execution_count": 6,
   "metadata": {},
   "outputs": [],
   "source": [
    "def homeWin(dataframe):\n",
    "    if dataframe['Winner'] == dataframe['Home']:\n",
    "        return True\n",
    "    else:\n",
    "        return False\n",
    "\n",
    "outcomeData['HomeWin'] = outcomeData.apply(homeWin, axis=1)"
   ]
  },
  {
   "cell_type": "code",
   "execution_count": 7,
   "metadata": {},
   "outputs": [],
   "source": [
    "encoding = LabelEncoder()\n",
    "encoding.fit(outcomeData['Home'].values)\n",
    "outcomeData['Home'] = encoding.transform(outcomeData['Home'].values)\n",
    "outcomeData['Visitor'] = encoding.transform(outcomeData['Visitor'].values)"
   ]
  },
  {
   "cell_type": "code",
   "execution_count": 17,
   "metadata": {},
   "outputs": [
    {
     "name": "stdout",
     "output_type": "stream",
     "text": [
      "<bound method NDFrame.head of        FG_PG  FGA_PG  FG%_PG  3P_PG  3PA_PG  3P%_PG  2P_PG  2PA_PG  2P%_PG  \\\n",
      "0        0.1     0.0   0.001   -2.3    -5.7  -0.019    2.3     5.8  -0.005   \n",
      "1       -1.8    -3.5  -0.002   -0.8    -1.5  -0.010   -1.1    -2.0  -0.001   \n",
      "2       -1.7     0.1  -0.022    4.0    10.6   0.015   -5.6   -10.5  -0.012   \n",
      "3        4.0     6.3   0.015   -2.9    -8.2  -0.012    6.9    14.5   0.002   \n",
      "4        0.9     1.3   0.004   -0.1    -0.1  -0.002    0.9     1.3   0.004   \n",
      "...      ...     ...     ...    ...     ...     ...    ...     ...     ...   \n",
      "20429   -3.0    -1.5  -0.026   -1.8    -1.9  -0.032   -1.3     0.4  -0.027   \n",
      "20430    1.5     2.0   0.006   -0.6    -1.1  -0.005    2.1     3.1   0.008   \n",
      "20431    0.6     1.3   0.002    2.4     7.7  -0.004   -1.8    -6.5   0.026   \n",
      "20432    2.3    -1.5   0.036    1.3     0.5   0.031    1.1    -2.0   0.041   \n",
      "20433   -0.2     1.1  -0.009    4.4    11.1   0.011   -4.7   -10.0   0.013   \n",
      "\n",
      "       FT_PG  ...   3PAr    TS%   eFG%  TOV%  ORB%  FT/FGA  eFG%.1  TOV%.1  \\\n",
      "0        0.5  ... -0.073 -0.015 -0.014  -0.2   4.9   0.005   0.002     0.6   \n",
      "1        3.1  ... -0.010  0.004 -0.004   0.5  -0.2   0.047  -0.021     1.0   \n",
      "2       -1.2  ...  0.131  0.000  0.002  -0.4   1.1  -0.016   0.011    -4.1   \n",
      "3       -1.4  ... -0.120 -0.016 -0.006  -1.1   6.1  -0.039   0.013     0.5   \n",
      "4        0.6  ... -0.004  0.002  0.003   1.6   0.9   0.004  -0.015     0.8   \n",
      "...      ...  ...    ...    ...    ...   ...   ...     ...     ...     ...   \n",
      "20429   -2.1  ... -0.015 -0.034 -0.035   0.5  -2.5  -0.020   0.050     1.4   \n",
      "20430    0.0  ... -0.021  0.001  0.001  -1.1   1.1  -0.005  -0.019     0.0   \n",
      "20431    2.2  ...  0.080  0.023  0.014   1.2  -4.2   0.022   0.002     0.3   \n",
      "20432    3.3  ...  0.014  0.048  0.045   0.2  -3.4   0.043  -0.024    -0.8   \n",
      "20433    2.0  ...  0.119  0.017  0.016  -1.0  -1.2   0.020  -0.007    -2.1   \n",
      "\n",
      "       DRB%  FT/FGA.1  \n",
      "0      -1.5    -0.038  \n",
      "1       1.2     0.025  \n",
      "2      -0.6    -0.029  \n",
      "3       0.2    -0.013  \n",
      "4      -0.7     0.022  \n",
      "...     ...       ...  \n",
      "20429  -0.9    -0.017  \n",
      "20430   4.5     0.025  \n",
      "20431  -3.4     0.009  \n",
      "20432   5.3     0.049  \n",
      "20433   0.4    -0.022  \n",
      "\n",
      "[20434 rows x 113 columns]>\n"
     ]
    }
   ],
   "source": [
    "featurePath = '/Users/lorneez/projects/sports_predictor/Sports_Model/Data/featureData.csv'\n",
    "X = pd.read_csv(featurePath)\n",
    "y = outcomeData[\"HomeWin\"]\n",
    "\n",
    "print(X.head)\n",
    "\n",
    "X_train, X_test, y_train, y_test = train_test_split(X, y, test_size=0.3)"
   ]
  },
  {
   "cell_type": "code",
   "execution_count": 20,
   "metadata": {},
   "outputs": [],
   "source": [
    "from keras import Sequential\n",
    "from keras.layers import Dense\n",
    "\n",
    "classifier = Sequential()\n",
    "#First Hidden Layer\n",
    "classifier.add(Dense(4, activation='relu', kernel_initializer='random_normal', input_dim=113))\n",
    "#Second  Hidden Layer\n",
    "classifier.add(Dense(4, activation='relu', kernel_initializer='random_normal'))\n",
    "#Output Layer\n",
    "classifier.add(Dense(1, activation='sigmoid', kernel_initializer='random_normal'))\n",
    "\n",
    "#Compiling the neural network\n",
    "classifier.compile(optimizer ='adam',loss='binary_crossentropy', metrics =['accuracy'])"
   ]
  },
  {
   "cell_type": "code",
   "execution_count": 21,
   "metadata": {},
   "outputs": [
    {
     "name": "stdout",
     "output_type": "stream",
     "text": [
      "Epoch 1/100\n",
      "14303/14303 [==============================] - 3s 226us/step - loss: 0.5882 - accuracy: 0.6859\n",
      "Epoch 2/100\n",
      "14303/14303 [==============================] - 3s 213us/step - loss: 0.5770 - accuracy: 0.6926\n",
      "Epoch 3/100\n",
      "14303/14303 [==============================] - 3s 203us/step - loss: 0.5757 - accuracy: 0.6959\n",
      "Epoch 4/100\n",
      "14303/14303 [==============================] - 3s 214us/step - loss: 0.5755 - accuracy: 0.6952\n",
      "Epoch 5/100\n",
      "14303/14303 [==============================] - 4s 256us/step - loss: 0.5748 - accuracy: 0.6946\n",
      "Epoch 6/100\n",
      "14303/14303 [==============================] - 3s 189us/step - loss: 0.5748 - accuracy: 0.6939\n",
      "Epoch 7/100\n",
      "14303/14303 [==============================] - 4s 262us/step - loss: 0.5743 - accuracy: 0.6959\n",
      "Epoch 8/100\n",
      "14303/14303 [==============================] - 4s 314us/step - loss: 0.5745 - accuracy: 0.6928\n",
      "Epoch 9/100\n",
      "14303/14303 [==============================] - 3s 233us/step - loss: 0.5740 - accuracy: 0.6951\n",
      "Epoch 10/100\n",
      "14303/14303 [==============================] - 4s 275us/step - loss: 0.5740 - accuracy: 0.6950\n",
      "Epoch 11/100\n",
      "14303/14303 [==============================] - 4s 257us/step - loss: 0.5739 - accuracy: 0.6955\n",
      "Epoch 12/100\n",
      "14303/14303 [==============================] - 2s 175us/step - loss: 0.5738 - accuracy: 0.6947\n",
      "Epoch 13/100\n",
      "14303/14303 [==============================] - 2s 173us/step - loss: 0.5736 - accuracy: 0.69521s - loss: 0.573 - ETA: 0s - los\n",
      "Epoch 14/100\n",
      "14303/14303 [==============================] - 2s 172us/step - loss: 0.5738 - accuracy: 0.6943\n",
      "Epoch 15/100\n",
      "14303/14303 [==============================] - 3s 200us/step - loss: 0.5736 - accuracy: 0.6954\n",
      "Epoch 16/100\n",
      "14303/14303 [==============================] - 3s 209us/step - loss: 0.5735 - accuracy: 0.6943\n",
      "Epoch 17/100\n",
      "14303/14303 [==============================] - 3s 209us/step - loss: 0.5734 - accuracy: 0.6968\n",
      "Epoch 18/100\n",
      "14303/14303 [==============================] - 3s 183us/step - loss: 0.5730 - accuracy: 0.6955\n",
      "Epoch 19/100\n",
      "14303/14303 [==============================] - 3s 188us/step - loss: 0.5728 - accuracy: 0.6950\n",
      "Epoch 20/100\n",
      "14303/14303 [==============================] - 2s 174us/step - loss: 0.5730 - accuracy: 0.6961\n",
      "Epoch 21/100\n",
      "14303/14303 [==============================] - 3s 195us/step - loss: 0.5728 - accuracy: 0.6941\n",
      "Epoch 22/100\n",
      "14303/14303 [==============================] - 3s 232us/step - loss: 0.5728 - accuracy: 0.6976\n",
      "Epoch 23/100\n",
      "14303/14303 [==============================] - 3s 235us/step - loss: 0.5729 - accuracy: 0.6968\n",
      "Epoch 24/100\n",
      "14303/14303 [==============================] - 4s 289us/step - loss: 0.5728 - accuracy: 0.6959\n",
      "Epoch 25/100\n",
      "14303/14303 [==============================] - 2s 162us/step - loss: 0.5726 - accuracy: 0.6970\n",
      "Epoch 26/100\n",
      "14303/14303 [==============================] - 3s 180us/step - loss: 0.5726 - accuracy: 0.6954\n",
      "Epoch 27/100\n",
      "14303/14303 [==============================] - 3s 188us/step - loss: 0.5720 - accuracy: 0.6967\n",
      "Epoch 28/100\n",
      "14303/14303 [==============================] - 2s 163us/step - loss: 0.5724 - accuracy: 0.6971\n",
      "Epoch 29/100\n",
      "14303/14303 [==============================] - 2s 174us/step - loss: 0.5720 - accuracy: 0.6973\n",
      "Epoch 30/100\n",
      "14303/14303 [==============================] - 3s 206us/step - loss: 0.5719 - accuracy: 0.6988\n",
      "Epoch 31/100\n",
      "14303/14303 [==============================] - 3s 213us/step - loss: 0.5717 - accuracy: 0.6985\n",
      "Epoch 32/100\n",
      "14303/14303 [==============================] - 2s 165us/step - loss: 0.5717 - accuracy: 0.6978\n",
      "Epoch 33/100\n",
      "14303/14303 [==============================] - 3s 182us/step - loss: 0.5721 - accuracy: 0.6967\n",
      "Epoch 34/100\n",
      "14303/14303 [==============================] - 3s 183us/step - loss: 0.5714 - accuracy: 0.6968\n",
      "Epoch 35/100\n",
      "14303/14303 [==============================] - 2s 154us/step - loss: 0.5718 - accuracy: 0.6985\n",
      "Epoch 36/100\n",
      "14303/14303 [==============================] - 3s 192us/step - loss: 0.5719 - accuracy: 0.69641s -\n",
      "Epoch 37/100\n",
      "14303/14303 [==============================] - 3s 182us/step - loss: 0.5714 - accuracy: 0.6968\n",
      "Epoch 38/100\n",
      "14303/14303 [==============================] - 3s 187us/step - loss: 0.5720 - accuracy: 0.6972\n",
      "Epoch 39/100\n",
      "14303/14303 [==============================] - 3s 207us/step - loss: 0.5712 - accuracy: 0.6979\n",
      "Epoch 40/100\n",
      "14303/14303 [==============================] - 3s 192us/step - loss: 0.5716 - accuracy: 0.69780s\n",
      "Epoch 41/100\n",
      "14303/14303 [==============================] - 2s 166us/step - loss: 0.5715 - accuracy: 0.6992\n",
      "Epoch 42/100\n",
      "14303/14303 [==============================] - 3s 196us/step - loss: 0.5714 - accuracy: 0.6982\n",
      "Epoch 43/100\n",
      "14303/14303 [==============================] - 2s 151us/step - loss: 0.5713 - accuracy: 0.6977\n",
      "Epoch 44/100\n",
      "14303/14303 [==============================] - 2s 165us/step - loss: 0.5711 - accuracy: 0.6989\n",
      "Epoch 45/100\n",
      "14303/14303 [==============================] - 3s 186us/step - loss: 0.5714 - accuracy: 0.6985\n",
      "Epoch 46/100\n",
      "14303/14303 [==============================] - 2s 156us/step - loss: 0.5715 - accuracy: 0.6979\n",
      "Epoch 47/100\n",
      "14303/14303 [==============================] - 2s 166us/step - loss: 0.5712 - accuracy: 0.6982\n",
      "Epoch 48/100\n",
      "14303/14303 [==============================] - 2s 163us/step - loss: 0.5713 - accuracy: 0.6989\n",
      "Epoch 49/100\n",
      "14303/14303 [==============================] - 3s 177us/step - loss: 0.5714 - accuracy: 0.69900s - loss: 0.5708 - accuracy: 0.\n",
      "Epoch 50/100\n",
      "14303/14303 [==============================] - 4s 273us/step - loss: 0.5708 - accuracy: 0.69891s - loss: - ETA: 0s - loss: 0.570\n",
      "Epoch 51/100\n",
      "14303/14303 [==============================] - 4s 258us/step - loss: 0.5711 - accuracy: 0.6979\n",
      "Epoch 52/100\n",
      "14303/14303 [==============================] - 4s 291us/step - loss: 0.5709 - accuracy: 0.6992\n",
      "Epoch 53/100\n",
      "14303/14303 [==============================] - 4s 269us/step - loss: 0.5710 - accuracy: 0.6989\n",
      "Epoch 54/100\n",
      "14303/14303 [==============================] - 4s 259us/step - loss: 0.5714 - accuracy: 0.6995\n",
      "Epoch 55/100\n",
      "14303/14303 [==============================] - 3s 180us/step - loss: 0.5710 - accuracy: 0.69870s - loss: 0.5729 \n",
      "Epoch 56/100\n",
      "14303/14303 [==============================] - 2s 165us/step - loss: 0.5710 - accuracy: 0.6977\n",
      "Epoch 57/100\n",
      "14303/14303 [==============================] - 2s 169us/step - loss: 0.5701 - accuracy: 0.6986\n",
      "Epoch 58/100\n",
      "14303/14303 [==============================] - 4s 306us/step - loss: 0.5708 - accuracy: 0.6982\n",
      "Epoch 59/100\n",
      "14303/14303 [==============================] - 4s 289us/step - loss: 0.5707 - accuracy: 0.6996\n",
      "Epoch 60/100\n",
      "14303/14303 [==============================] - 4s 249us/step - loss: 0.5706 - accuracy: 0.6982\n",
      "Epoch 61/100\n",
      "14303/14303 [==============================] - 3s 197us/step - loss: 0.5707 - accuracy: 0.6987\n",
      "Epoch 62/100\n",
      "14303/14303 [==============================] - 3s 179us/step - loss: 0.5709 - accuracy: 0.6992\n",
      "Epoch 63/100\n",
      "14303/14303 [==============================] - 2s 173us/step - loss: 0.5706 - accuracy: 0.69880s - l\n",
      "Epoch 64/100\n",
      "14303/14303 [==============================] - 3s 191us/step - loss: 0.5709 - accuracy: 0.6986\n",
      "Epoch 65/100\n",
      "14303/14303 [==============================] - 3s 216us/step - loss: 0.5711 - accuracy: 0.6980\n",
      "Epoch 66/100\n",
      "14303/14303 [==============================] - 2s 157us/step - loss: 0.5708 - accuracy: 0.69760s - loss: 0.5709 - accuracy: 0.69\n",
      "Epoch 67/100\n",
      "14303/14303 [==============================] - 2s 173us/step - loss: 0.5707 - accuracy: 0.6989\n",
      "Epoch 68/100\n",
      "14303/14303 [==============================] - 3s 180us/step - loss: 0.5706 - accuracy: 0.6999\n",
      "Epoch 69/100\n",
      "14303/14303 [==============================] - 2s 163us/step - loss: 0.5706 - accuracy: 0.6986\n",
      "Epoch 70/100\n",
      "14303/14303 [==============================] - 3s 221us/step - loss: 0.5708 - accuracy: 0.6979\n",
      "Epoch 71/100\n",
      "14303/14303 [==============================] - 5s 357us/step - loss: 0.5704 - accuracy: 0.6994\n",
      "Epoch 72/100\n",
      "14303/14303 [==============================] - 4s 250us/step - loss: 0.5707 - accuracy: 0.6996\n",
      "Epoch 73/100\n",
      "14303/14303 [==============================] - 4s 265us/step - loss: 0.5704 - accuracy: 0.69990s - loss: 0\n",
      "Epoch 74/100\n",
      "14303/14303 [==============================] - 3s 208us/step - loss: 0.5704 - accuracy: 0.7003\n",
      "Epoch 75/100\n"
     ]
    },
    {
     "name": "stdout",
     "output_type": "stream",
     "text": [
      "14303/14303 [==============================] - 3s 242us/step - loss: 0.5702 - accuracy: 0.6984\n",
      "Epoch 76/100\n",
      "14303/14303 [==============================] - 3s 193us/step - loss: 0.5706 - accuracy: 0.6994\n",
      "Epoch 77/100\n",
      "14303/14303 [==============================] - 3s 188us/step - loss: 0.5706 - accuracy: 0.6998\n",
      "Epoch 78/100\n",
      "14303/14303 [==============================] - 4s 306us/step - loss: 0.5701 - accuracy: 0.6994\n",
      "Epoch 79/100\n",
      "14303/14303 [==============================] - 3s 229us/step - loss: 0.5703 - accuracy: 0.6994\n",
      "Epoch 80/100\n",
      "14303/14303 [==============================] - 3s 188us/step - loss: 0.5706 - accuracy: 0.6996\n",
      "Epoch 81/100\n",
      "14303/14303 [==============================] - 3s 216us/step - loss: 0.5702 - accuracy: 0.6996\n",
      "Epoch 82/100\n",
      "14303/14303 [==============================] - 3s 208us/step - loss: 0.5703 - accuracy: 0.7000\n",
      "Epoch 83/100\n",
      "14303/14303 [==============================] - 4s 258us/step - loss: 0.5704 - accuracy: 0.7010\n",
      "Epoch 84/100\n",
      "14303/14303 [==============================] - 4s 313us/step - loss: 0.5705 - accuracy: 0.6999\n",
      "Epoch 85/100\n",
      "14303/14303 [==============================] - 3s 186us/step - loss: 0.5701 - accuracy: 0.6999\n",
      "Epoch 86/100\n",
      "14303/14303 [==============================] - 3s 177us/step - loss: 0.5703 - accuracy: 0.6997\n",
      "Epoch 87/100\n",
      "14303/14303 [==============================] - 3s 175us/step - loss: 0.5704 - accuracy: 0.7000\n",
      "Epoch 88/100\n",
      "14303/14303 [==============================] - 4s 277us/step - loss: 0.5703 - accuracy: 0.6999\n",
      "Epoch 89/100\n",
      "14303/14303 [==============================] - 4s 252us/step - loss: 0.5703 - accuracy: 0.7006\n",
      "Epoch 90/100\n",
      "14303/14303 [==============================] - 3s 206us/step - loss: 0.5696 - accuracy: 0.7000\n",
      "Epoch 91/100\n",
      "14303/14303 [==============================] - 6s 437us/step - loss: 0.5701 - accuracy: 0.7014\n",
      "Epoch 92/100\n",
      "14303/14303 [==============================] - 6s 440us/step - loss: 0.5697 - accuracy: 0.7024\n",
      "Epoch 93/100\n",
      "14303/14303 [==============================] - 3s 184us/step - loss: 0.5699 - accuracy: 0.6992\n",
      "Epoch 94/100\n",
      "14303/14303 [==============================] - 4s 280us/step - loss: 0.5701 - accuracy: 0.7008\n",
      "Epoch 95/100\n",
      "14303/14303 [==============================] - 3s 238us/step - loss: 0.5703 - accuracy: 0.6992\n",
      "Epoch 96/100\n",
      "14303/14303 [==============================] - 3s 237us/step - loss: 0.5695 - accuracy: 0.7009\n",
      "Epoch 97/100\n",
      "14303/14303 [==============================] - 4s 262us/step - loss: 0.5701 - accuracy: 0.7012\n",
      "Epoch 98/100\n",
      "14303/14303 [==============================] - 3s 243us/step - loss: 0.5694 - accuracy: 0.69960s - loss: 0.5701 - \n",
      "Epoch 99/100\n",
      "14303/14303 [==============================] - 3s 236us/step - loss: 0.5698 - accuracy: 0.7004\n",
      "Epoch 100/100\n",
      "14303/14303 [==============================] - 3s 238us/step - loss: 0.5698 - accuracy: 0.6996\n"
     ]
    },
    {
     "data": {
      "text/plain": [
       "<keras.callbacks.callbacks.History at 0x1a4008cfd0>"
      ]
     },
     "execution_count": 21,
     "metadata": {},
     "output_type": "execute_result"
    }
   ],
   "source": [
    "#Fitting the data to the training dataset\n",
    "classifier.fit(X_train,y_train, batch_size=10, epochs=100)"
   ]
  },
  {
   "cell_type": "code",
   "execution_count": 22,
   "metadata": {},
   "outputs": [
    {
     "name": "stdout",
     "output_type": "stream",
     "text": [
      "14303/14303 [==============================] - 1s 42us/step\n"
     ]
    },
    {
     "data": {
      "text/plain": [
       "[0.5692166570999369, 0.7007620930671692]"
      ]
     },
     "execution_count": 22,
     "metadata": {},
     "output_type": "execute_result"
    }
   ],
   "source": [
    "eval_model=classifier.evaluate(X_train, y_train)\n",
    "eval_model"
   ]
  },
  {
   "cell_type": "code",
   "execution_count": 23,
   "metadata": {},
   "outputs": [],
   "source": [
    "y_pred=classifier.predict(X_test)\n",
    "y_pred =(y_pred>0.5)"
   ]
  },
  {
   "cell_type": "code",
   "execution_count": 24,
   "metadata": {},
   "outputs": [
    {
     "name": "stdout",
     "output_type": "stream",
     "text": [
      "[[1277 1241]\n",
      " [ 682 2931]]\n"
     ]
    }
   ],
   "source": [
    "from sklearn.metrics import confusion_matrix\n",
    "cm = confusion_matrix(y_test, y_pred)\n",
    "print(cm)"
   ]
  },
  {
   "cell_type": "code",
   "execution_count": 25,
   "metadata": {},
   "outputs": [
    {
     "data": {
      "text/plain": [
       "0.686348067199478"
      ]
     },
     "execution_count": 25,
     "metadata": {},
     "output_type": "execute_result"
    }
   ],
   "source": [
    "(1277+2931)/(1277+1241+682+2931)"
   ]
  },
  {
   "cell_type": "code",
   "execution_count": null,
   "metadata": {},
   "outputs": [],
   "source": []
  }
 ],
 "metadata": {
  "kernelspec": {
   "display_name": "Python 3",
   "language": "python",
   "name": "python3"
  },
  "language_info": {
   "codemirror_mode": {
    "name": "ipython",
    "version": 3
   },
   "file_extension": ".py",
   "mimetype": "text/x-python",
   "name": "python",
   "nbconvert_exporter": "python",
   "pygments_lexer": "ipython3",
   "version": "3.7.6"
  }
 },
 "nbformat": 4,
 "nbformat_minor": 4
}
