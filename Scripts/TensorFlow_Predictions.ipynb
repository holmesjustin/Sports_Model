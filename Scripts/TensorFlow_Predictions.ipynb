{
 "cells": [
  {
   "cell_type": "code",
   "execution_count": 239,
   "metadata": {},
   "outputs": [],
   "source": [
    "import tensorflow as tf\n",
    "from tensorflow import keras\n",
    "from tensorflow.keras import layers, Sequential\n",
    "from tensorflow.keras.layers import Dense, Dropout\n",
    "\n",
    "import tensorflow_docs as tfdocs\n",
    "import tensorflow_docs.plots\n",
    "import tensorflow_docs.modeling\n",
    "\n",
    "import matplotlib.pyplot as plt\n",
    "\n",
    "import pandas as pd\n",
    "from sklearn.preprocessing import LabelEncoder\n",
    "from sklearn.model_selection import train_test_split\n",
    "import numpy as np"
   ]
  },
  {
   "cell_type": "code",
   "execution_count": 240,
   "metadata": {},
   "outputs": [],
   "source": [
    "outcomePath = '/Users/justinholmes/Desktop/Sports_Model/Data/outcomeData.csv'\n",
    "featurePath = '/Users/justinholmes/Desktop/Sports_Model/Data/DifferentialFeatureData.csv'"
   ]
  },
  {
   "cell_type": "code",
   "execution_count": 241,
   "metadata": {},
   "outputs": [],
   "source": [
    "outcomeData = pd.read_csv(outcomePath)\n",
    "featureData = pd.read_csv(featurePath)"
   ]
  },
  {
   "cell_type": "markdown",
   "metadata": {},
   "source": [
    "### Format all data"
   ]
  },
  {
   "cell_type": "code",
   "execution_count": 242,
   "metadata": {},
   "outputs": [],
   "source": [
    "# drop unwanted columns\n",
    "outcomeData = outcomeData.drop([\"Start Time\", \"Box Score\", \"Notes\"], axis=1)"
   ]
  },
  {
   "cell_type": "code",
   "execution_count": 243,
   "metadata": {},
   "outputs": [],
   "source": [
    "# change OT to integer value for number of OT rounds\n",
    "outcomeData.loc[(outcomeData[\"OT?\"].isna()),'OT?']= 0\n",
    "outcomeData.loc[(outcomeData[\"OT?\"] == \"OT\"),'OT?']= 1\n",
    "outcomeData.loc[(outcomeData[\"OT?\"] == \"2OT\"),'OT?']= 2\n",
    "outcomeData.loc[(outcomeData[\"OT?\"] == \"3OT\"),'OT?']= 3\n",
    "outcomeData.loc[(outcomeData[\"OT?\"] == \"4OT\"),'OT?']= 4"
   ]
  },
  {
   "cell_type": "code",
   "execution_count": 244,
   "metadata": {},
   "outputs": [],
   "source": [
    "def redefineTeamNames(dataframe):\n",
    "    dataframe = dataframe.replace('Seattle SuperSonics', 'Oklahoma City Thunder', regex=True)\n",
    "    \n",
    "    dataframe = dataframe.replace('New Orleans/Oklahoma City Hornets', 'New Orleans Pelicans', regex=True)\n",
    "\n",
    "    dataframe = dataframe.replace('New Orleans Hornets', 'New Orleans Pelicans', regex=True)\n",
    "    \n",
    "    dataframe = dataframe.replace('Charlotte Bobcats', 'Charlotte Hornets', regex=True)\n",
    "    \n",
    "    dataframe = dataframe.replace('New Jersey Nets', 'Brooklyn Nets', regex=True)\n",
    "    \n",
    "    return dataframe\n",
    "\n",
    "outcomeData = redefineTeamNames(outcomeData)"
   ]
  },
  {
   "cell_type": "code",
   "execution_count": 245,
   "metadata": {},
   "outputs": [],
   "source": [
    "# outcomeData[\"Final Home Spread\"] = (outcomeData[\"VisitorPTS\"] - outcomeData[\"HomePTS\"]).astype(float)"
   ]
  },
  {
   "cell_type": "code",
   "execution_count": 246,
   "metadata": {},
   "outputs": [],
   "source": [
    "def homeWin(dataframe):\n",
    "    if dataframe['Winner'] == dataframe['Home']:\n",
    "        return True\n",
    "    else:\n",
    "        return False\n",
    "\n",
    "outcomeData['HomeWin'] = outcomeData.apply(homeWin, axis=1)"
   ]
  },
  {
   "cell_type": "code",
   "execution_count": 247,
   "metadata": {},
   "outputs": [],
   "source": [
    "outcomeData = pd.concat([outcomeData, featureData], axis=1, sort=False)"
   ]
  },
  {
   "cell_type": "code",
   "execution_count": 248,
   "metadata": {},
   "outputs": [
    {
     "data": {
      "text/html": [
       "<div>\n",
       "<style scoped>\n",
       "    .dataframe tbody tr th:only-of-type {\n",
       "        vertical-align: middle;\n",
       "    }\n",
       "\n",
       "    .dataframe tbody tr th {\n",
       "        vertical-align: top;\n",
       "    }\n",
       "\n",
       "    .dataframe thead th {\n",
       "        text-align: right;\n",
       "    }\n",
       "</style>\n",
       "<table border=\"1\" class=\"dataframe\">\n",
       "  <thead>\n",
       "    <tr style=\"text-align: right;\">\n",
       "      <th></th>\n",
       "      <th>Year</th>\n",
       "      <th>Month</th>\n",
       "      <th>Visitor</th>\n",
       "      <th>VisitorPTS</th>\n",
       "      <th>Home</th>\n",
       "      <th>HomePTS</th>\n",
       "      <th>OT?</th>\n",
       "      <th>Attend</th>\n",
       "      <th>Total Points</th>\n",
       "      <th>Winner</th>\n",
       "      <th>...</th>\n",
       "      <th>3PAr</th>\n",
       "      <th>TS%</th>\n",
       "      <th>eFG%</th>\n",
       "      <th>TOV%</th>\n",
       "      <th>ORB%</th>\n",
       "      <th>FT/FGA</th>\n",
       "      <th>eFG%.1</th>\n",
       "      <th>TOV%.1</th>\n",
       "      <th>DRB%</th>\n",
       "      <th>FT/FGA.1</th>\n",
       "    </tr>\n",
       "  </thead>\n",
       "  <tbody>\n",
       "    <tr>\n",
       "      <th>0</th>\n",
       "      <td>2005</td>\n",
       "      <td>november</td>\n",
       "      <td>Houston Rockets</td>\n",
       "      <td>79</td>\n",
       "      <td>Detroit Pistons</td>\n",
       "      <td>87</td>\n",
       "      <td>0</td>\n",
       "      <td>22076</td>\n",
       "      <td>166</td>\n",
       "      <td>Detroit Pistons</td>\n",
       "      <td>...</td>\n",
       "      <td>-0.073</td>\n",
       "      <td>-0.015</td>\n",
       "      <td>-0.014</td>\n",
       "      <td>-0.2</td>\n",
       "      <td>4.9</td>\n",
       "      <td>0.005</td>\n",
       "      <td>0.002</td>\n",
       "      <td>0.6</td>\n",
       "      <td>-1.5</td>\n",
       "      <td>-0.038</td>\n",
       "    </tr>\n",
       "    <tr>\n",
       "      <th>1</th>\n",
       "      <td>2005</td>\n",
       "      <td>november</td>\n",
       "      <td>Sacramento Kings</td>\n",
       "      <td>98</td>\n",
       "      <td>Dallas Mavericks</td>\n",
       "      <td>107</td>\n",
       "      <td>0</td>\n",
       "      <td>20041</td>\n",
       "      <td>205</td>\n",
       "      <td>Dallas Mavericks</td>\n",
       "      <td>...</td>\n",
       "      <td>-0.010</td>\n",
       "      <td>0.004</td>\n",
       "      <td>-0.004</td>\n",
       "      <td>0.5</td>\n",
       "      <td>-0.2</td>\n",
       "      <td>0.047</td>\n",
       "      <td>-0.021</td>\n",
       "      <td>1.0</td>\n",
       "      <td>1.2</td>\n",
       "      <td>0.025</td>\n",
       "    </tr>\n",
       "    <tr>\n",
       "      <th>2</th>\n",
       "      <td>2005</td>\n",
       "      <td>november</td>\n",
       "      <td>Denver Nuggets</td>\n",
       "      <td>78</td>\n",
       "      <td>Los Angeles Lakers</td>\n",
       "      <td>89</td>\n",
       "      <td>0</td>\n",
       "      <td>18997</td>\n",
       "      <td>167</td>\n",
       "      <td>Los Angeles Lakers</td>\n",
       "      <td>...</td>\n",
       "      <td>0.131</td>\n",
       "      <td>0.000</td>\n",
       "      <td>0.002</td>\n",
       "      <td>-0.4</td>\n",
       "      <td>1.1</td>\n",
       "      <td>-0.016</td>\n",
       "      <td>0.011</td>\n",
       "      <td>-4.1</td>\n",
       "      <td>-0.6</td>\n",
       "      <td>-0.029</td>\n",
       "    </tr>\n",
       "    <tr>\n",
       "      <th>3</th>\n",
       "      <td>2005</td>\n",
       "      <td>november</td>\n",
       "      <td>Indiana Pacers</td>\n",
       "      <td>109</td>\n",
       "      <td>Cleveland Cavaliers</td>\n",
       "      <td>104</td>\n",
       "      <td>2</td>\n",
       "      <td>19730</td>\n",
       "      <td>213</td>\n",
       "      <td>Indiana Pacers</td>\n",
       "      <td>...</td>\n",
       "      <td>-0.120</td>\n",
       "      <td>-0.016</td>\n",
       "      <td>-0.006</td>\n",
       "      <td>-1.1</td>\n",
       "      <td>6.1</td>\n",
       "      <td>-0.039</td>\n",
       "      <td>0.013</td>\n",
       "      <td>0.5</td>\n",
       "      <td>0.2</td>\n",
       "      <td>-0.013</td>\n",
       "    </tr>\n",
       "    <tr>\n",
       "      <th>4</th>\n",
       "      <td>2005</td>\n",
       "      <td>november</td>\n",
       "      <td>Milwaukee Bucks</td>\n",
       "      <td>92</td>\n",
       "      <td>Orlando Magic</td>\n",
       "      <td>93</td>\n",
       "      <td>0</td>\n",
       "      <td>15138</td>\n",
       "      <td>185</td>\n",
       "      <td>Orlando Magic</td>\n",
       "      <td>...</td>\n",
       "      <td>-0.004</td>\n",
       "      <td>0.002</td>\n",
       "      <td>0.003</td>\n",
       "      <td>1.6</td>\n",
       "      <td>0.9</td>\n",
       "      <td>0.004</td>\n",
       "      <td>-0.015</td>\n",
       "      <td>0.8</td>\n",
       "      <td>-0.7</td>\n",
       "      <td>0.022</td>\n",
       "    </tr>\n",
       "  </tbody>\n",
       "</table>\n",
       "<p>5 rows × 124 columns</p>\n",
       "</div>"
      ],
      "text/plain": [
       "   Year     Month           Visitor  VisitorPTS                 Home  HomePTS  \\\n",
       "0  2005  november   Houston Rockets          79      Detroit Pistons       87   \n",
       "1  2005  november  Sacramento Kings          98     Dallas Mavericks      107   \n",
       "2  2005  november    Denver Nuggets          78   Los Angeles Lakers       89   \n",
       "3  2005  november    Indiana Pacers         109  Cleveland Cavaliers      104   \n",
       "4  2005  november   Milwaukee Bucks          92        Orlando Magic       93   \n",
       "\n",
       "   OT?  Attend  Total Points              Winner  ...   3PAr    TS%   eFG%  \\\n",
       "0    0   22076           166     Detroit Pistons  ... -0.073 -0.015 -0.014   \n",
       "1    0   20041           205    Dallas Mavericks  ... -0.010  0.004 -0.004   \n",
       "2    0   18997           167  Los Angeles Lakers  ...  0.131  0.000  0.002   \n",
       "3    2   19730           213      Indiana Pacers  ... -0.120 -0.016 -0.006   \n",
       "4    0   15138           185       Orlando Magic  ... -0.004  0.002  0.003   \n",
       "\n",
       "   TOV%  ORB%  FT/FGA  eFG%.1  TOV%.1  DRB%  FT/FGA.1  \n",
       "0  -0.2   4.9   0.005   0.002     0.6  -1.5    -0.038  \n",
       "1   0.5  -0.2   0.047  -0.021     1.0   1.2     0.025  \n",
       "2  -0.4   1.1  -0.016   0.011    -4.1  -0.6    -0.029  \n",
       "3  -1.1   6.1  -0.039   0.013     0.5   0.2    -0.013  \n",
       "4   1.6   0.9   0.004  -0.015     0.8  -0.7     0.022  \n",
       "\n",
       "[5 rows x 124 columns]"
      ]
     },
     "execution_count": 248,
     "metadata": {},
     "output_type": "execute_result"
    }
   ],
   "source": [
    "outcomeData.head()"
   ]
  },
  {
   "cell_type": "code",
   "execution_count": 249,
   "metadata": {},
   "outputs": [],
   "source": [
    "encoding = LabelEncoder()\n",
    "encoding.fit(outcomeData['Home'].values)\n",
    "outcomeData['Home'] = encoding.transform(outcomeData['Home'].values)\n",
    "outcomeData['Visitor'] = encoding.transform(outcomeData['Visitor'].values)"
   ]
  },
  {
   "cell_type": "code",
   "execution_count": 250,
   "metadata": {},
   "outputs": [],
   "source": [
    "outcomeData = outcomeData.drop(['Month', 'Attend', 'Winner', 'VisitorPTS', 'HomePTS', 'Total Points',\n",
    "                 'G_OppPG', 'G_OppPP', 'MP_OppPP'], axis=1)\n"
   ]
  },
  {
   "cell_type": "code",
   "execution_count": 251,
   "metadata": {},
   "outputs": [
    {
     "data": {
      "text/html": [
       "<div>\n",
       "<style scoped>\n",
       "    .dataframe tbody tr th:only-of-type {\n",
       "        vertical-align: middle;\n",
       "    }\n",
       "\n",
       "    .dataframe tbody tr th {\n",
       "        vertical-align: top;\n",
       "    }\n",
       "\n",
       "    .dataframe thead th {\n",
       "        text-align: right;\n",
       "    }\n",
       "</style>\n",
       "<table border=\"1\" class=\"dataframe\">\n",
       "  <thead>\n",
       "    <tr style=\"text-align: right;\">\n",
       "      <th></th>\n",
       "      <th>Year</th>\n",
       "      <th>Visitor</th>\n",
       "      <th>Home</th>\n",
       "      <th>OT?</th>\n",
       "      <th>HomeWin</th>\n",
       "      <th>FG_PG</th>\n",
       "      <th>FGA_PG</th>\n",
       "      <th>FG%_PG</th>\n",
       "      <th>3P_PG</th>\n",
       "      <th>3PA_PG</th>\n",
       "      <th>...</th>\n",
       "      <th>3PAr</th>\n",
       "      <th>TS%</th>\n",
       "      <th>eFG%</th>\n",
       "      <th>TOV%</th>\n",
       "      <th>ORB%</th>\n",
       "      <th>FT/FGA</th>\n",
       "      <th>eFG%.1</th>\n",
       "      <th>TOV%.1</th>\n",
       "      <th>DRB%</th>\n",
       "      <th>FT/FGA.1</th>\n",
       "    </tr>\n",
       "  </thead>\n",
       "  <tbody>\n",
       "    <tr>\n",
       "      <th>0</th>\n",
       "      <td>2005</td>\n",
       "      <td>10</td>\n",
       "      <td>8</td>\n",
       "      <td>0</td>\n",
       "      <td>True</td>\n",
       "      <td>0.1</td>\n",
       "      <td>0.0</td>\n",
       "      <td>0.001</td>\n",
       "      <td>-2.3</td>\n",
       "      <td>-5.7</td>\n",
       "      <td>...</td>\n",
       "      <td>-0.073</td>\n",
       "      <td>-0.015</td>\n",
       "      <td>-0.014</td>\n",
       "      <td>-0.2</td>\n",
       "      <td>4.9</td>\n",
       "      <td>0.005</td>\n",
       "      <td>0.002</td>\n",
       "      <td>0.6</td>\n",
       "      <td>-1.5</td>\n",
       "      <td>-0.038</td>\n",
       "    </tr>\n",
       "    <tr>\n",
       "      <th>1</th>\n",
       "      <td>2005</td>\n",
       "      <td>25</td>\n",
       "      <td>6</td>\n",
       "      <td>0</td>\n",
       "      <td>True</td>\n",
       "      <td>-1.8</td>\n",
       "      <td>-3.5</td>\n",
       "      <td>-0.002</td>\n",
       "      <td>-0.8</td>\n",
       "      <td>-1.5</td>\n",
       "      <td>...</td>\n",
       "      <td>-0.010</td>\n",
       "      <td>0.004</td>\n",
       "      <td>-0.004</td>\n",
       "      <td>0.5</td>\n",
       "      <td>-0.2</td>\n",
       "      <td>0.047</td>\n",
       "      <td>-0.021</td>\n",
       "      <td>1.0</td>\n",
       "      <td>1.2</td>\n",
       "      <td>0.025</td>\n",
       "    </tr>\n",
       "    <tr>\n",
       "      <th>2</th>\n",
       "      <td>2005</td>\n",
       "      <td>7</td>\n",
       "      <td>13</td>\n",
       "      <td>0</td>\n",
       "      <td>True</td>\n",
       "      <td>-1.7</td>\n",
       "      <td>0.1</td>\n",
       "      <td>-0.022</td>\n",
       "      <td>4.0</td>\n",
       "      <td>10.6</td>\n",
       "      <td>...</td>\n",
       "      <td>0.131</td>\n",
       "      <td>0.000</td>\n",
       "      <td>0.002</td>\n",
       "      <td>-0.4</td>\n",
       "      <td>1.1</td>\n",
       "      <td>-0.016</td>\n",
       "      <td>0.011</td>\n",
       "      <td>-4.1</td>\n",
       "      <td>-0.6</td>\n",
       "      <td>-0.029</td>\n",
       "    </tr>\n",
       "    <tr>\n",
       "      <th>3</th>\n",
       "      <td>2005</td>\n",
       "      <td>11</td>\n",
       "      <td>5</td>\n",
       "      <td>2</td>\n",
       "      <td>False</td>\n",
       "      <td>4.0</td>\n",
       "      <td>6.3</td>\n",
       "      <td>0.015</td>\n",
       "      <td>-2.9</td>\n",
       "      <td>-8.2</td>\n",
       "      <td>...</td>\n",
       "      <td>-0.120</td>\n",
       "      <td>-0.016</td>\n",
       "      <td>-0.006</td>\n",
       "      <td>-1.1</td>\n",
       "      <td>6.1</td>\n",
       "      <td>-0.039</td>\n",
       "      <td>0.013</td>\n",
       "      <td>0.5</td>\n",
       "      <td>0.2</td>\n",
       "      <td>-0.013</td>\n",
       "    </tr>\n",
       "    <tr>\n",
       "      <th>4</th>\n",
       "      <td>2005</td>\n",
       "      <td>16</td>\n",
       "      <td>21</td>\n",
       "      <td>0</td>\n",
       "      <td>True</td>\n",
       "      <td>0.9</td>\n",
       "      <td>1.3</td>\n",
       "      <td>0.004</td>\n",
       "      <td>-0.1</td>\n",
       "      <td>-0.1</td>\n",
       "      <td>...</td>\n",
       "      <td>-0.004</td>\n",
       "      <td>0.002</td>\n",
       "      <td>0.003</td>\n",
       "      <td>1.6</td>\n",
       "      <td>0.9</td>\n",
       "      <td>0.004</td>\n",
       "      <td>-0.015</td>\n",
       "      <td>0.8</td>\n",
       "      <td>-0.7</td>\n",
       "      <td>0.022</td>\n",
       "    </tr>\n",
       "  </tbody>\n",
       "</table>\n",
       "<p>5 rows × 115 columns</p>\n",
       "</div>"
      ],
      "text/plain": [
       "   Year  Visitor  Home  OT?  HomeWin  FG_PG  FGA_PG  FG%_PG  3P_PG  3PA_PG  \\\n",
       "0  2005       10     8    0     True    0.1     0.0   0.001   -2.3    -5.7   \n",
       "1  2005       25     6    0     True   -1.8    -3.5  -0.002   -0.8    -1.5   \n",
       "2  2005        7    13    0     True   -1.7     0.1  -0.022    4.0    10.6   \n",
       "3  2005       11     5    2    False    4.0     6.3   0.015   -2.9    -8.2   \n",
       "4  2005       16    21    0     True    0.9     1.3   0.004   -0.1    -0.1   \n",
       "\n",
       "   ...   3PAr    TS%   eFG%  TOV%  ORB%  FT/FGA  eFG%.1  TOV%.1  DRB%  \\\n",
       "0  ... -0.073 -0.015 -0.014  -0.2   4.9   0.005   0.002     0.6  -1.5   \n",
       "1  ... -0.010  0.004 -0.004   0.5  -0.2   0.047  -0.021     1.0   1.2   \n",
       "2  ...  0.131  0.000  0.002  -0.4   1.1  -0.016   0.011    -4.1  -0.6   \n",
       "3  ... -0.120 -0.016 -0.006  -1.1   6.1  -0.039   0.013     0.5   0.2   \n",
       "4  ... -0.004  0.002  0.003   1.6   0.9   0.004  -0.015     0.8  -0.7   \n",
       "\n",
       "   FT/FGA.1  \n",
       "0    -0.038  \n",
       "1     0.025  \n",
       "2    -0.029  \n",
       "3    -0.013  \n",
       "4     0.022  \n",
       "\n",
       "[5 rows x 115 columns]"
      ]
     },
     "execution_count": 251,
     "metadata": {},
     "output_type": "execute_result"
    }
   ],
   "source": [
    "outcomeData.head()"
   ]
  },
  {
   "cell_type": "code",
   "execution_count": 252,
   "metadata": {},
   "outputs": [],
   "source": [
    "# X = pd.read_csv(featurePath)\n",
    "# y = outcomeData[\"HomeWin\"]\n",
    "# X_train, X_test, y_train, y_test = train_test_split(X, y, test_size=0.3)"
   ]
  },
  {
   "cell_type": "code",
   "execution_count": 339,
   "metadata": {},
   "outputs": [],
   "source": [
    "# train and test data based on specific years\n",
    "\n",
    "trainData = outcomeData.loc[(outcomeData['Year'] < 2020) & (outcomeData['Year'] >= 2019)]\n",
    "testData = outcomeData.loc[outcomeData['Year'] == 2020]\n",
    "\n",
    "X_train = trainData.drop([\"HomeWin\", \"Year\", \"OT?\"], axis=1)\n",
    "X_test = testData.drop([\"HomeWin\", \"Year\", \"OT?\"], axis=1)\n",
    "\n",
    "y_train = trainData.pop('HomeWin')\n",
    "y_test = testData.pop('HomeWin')"
   ]
  },
  {
   "cell_type": "code",
   "execution_count": 209,
   "metadata": {},
   "outputs": [],
   "source": [
    "# train_stats = trainData.describe()"
   ]
  },
  {
   "cell_type": "code",
   "execution_count": 210,
   "metadata": {},
   "outputs": [],
   "source": [
    "# train_stats = trainData.drop([\"Final Home Spread\"],axis=1).describe()"
   ]
  },
  {
   "cell_type": "code",
   "execution_count": 211,
   "metadata": {},
   "outputs": [],
   "source": [
    "# train_stats.head()"
   ]
  },
  {
   "cell_type": "code",
   "execution_count": 212,
   "metadata": {},
   "outputs": [],
   "source": [
    "# train_stats = train_stats.transpose()\n",
    "# train_stats"
   ]
  },
  {
   "cell_type": "code",
   "execution_count": 213,
   "metadata": {},
   "outputs": [],
   "source": [
    "# train_labels = trainData.pop('HomeWin')\n",
    "# test_labels = testData.pop('HomeWin')"
   ]
  },
  {
   "cell_type": "code",
   "execution_count": 214,
   "metadata": {},
   "outputs": [],
   "source": [
    "# def norm(x):\n",
    "#   return (x - train_stats['mean']) / train_stats['std']"
   ]
  },
  {
   "cell_type": "code",
   "execution_count": 116,
   "metadata": {},
   "outputs": [],
   "source": [
    "# trainData.head()"
   ]
  },
  {
   "cell_type": "code",
   "execution_count": 117,
   "metadata": {},
   "outputs": [],
   "source": [
    "# # regular_train_data = trainData[[\"Year\", \"Visitor\", \"Home\", \"OT?\"]]\n",
    "# normed_train_data = norm(trainData.drop([\"Year\", \"Visitor\", \"Home\", \"OT?\"],axis=1))\n",
    "# # normed_train_data = pd.concat([regular_train_data, normed_train_data], axis=1, sort=False)\n",
    "\n",
    "# # regular_test_data = testData[[\"Year\", \"Visitor\", \"Home\", \"OT?\"]]\n",
    "# normed_test_data = norm(testData.drop([\"Year\", \"Visitor\", \"Home\", \"OT?\"],axis=1))\n",
    "# # normed_test_data = pd.concat([regular_test_data, normed_test_data], axis=1, sort=False)"
   ]
  },
  {
   "cell_type": "code",
   "execution_count": 118,
   "metadata": {},
   "outputs": [],
   "source": [
    "# normed_train_data.head()"
   ]
  },
  {
   "cell_type": "code",
   "execution_count": 119,
   "metadata": {},
   "outputs": [],
   "source": [
    "# normed_train_data = norm(trainData)\n",
    "\n",
    "# normed_test_data = norm(testData)\n"
   ]
  },
  {
   "cell_type": "code",
   "execution_count": 120,
   "metadata": {},
   "outputs": [],
   "source": [
    "# X = normed_train_data\n",
    "\n",
    "# y = normed_test_data.to_numpy()\n"
   ]
  },
  {
   "cell_type": "code",
   "execution_count": 340,
   "metadata": {},
   "outputs": [],
   "source": [
    "def build_model():\n",
    "  model = keras.Sequential([\n",
    "    layers.Dense(128, activation='relu', input_shape=[len(X_train.keys())]),\n",
    "    layers.Dropout(.5),\n",
    "    layers.Dense(128, activation='relu'),\n",
    "    layers.Dropout(.5),\n",
    "    layers.Dense(128, activation='relu'),\n",
    "    layers.Dropout(.5),\n",
    "    layers.Dense(1, activation='sigmoid')\n",
    "  ])\n",
    "\n",
    "#   optimizer = tf.keras.optimizers.RMSprop(0.001)\n",
    "\n",
    "\n",
    "  model.compile(optimizer='adam',\n",
    "              loss='binary_crossentropy',\n",
    "              metrics=['accuracy'])\n",
    "  return model"
   ]
  },
  {
   "cell_type": "code",
   "execution_count": 122,
   "metadata": {},
   "outputs": [],
   "source": [
    "# model = build_model()"
   ]
  },
  {
   "cell_type": "code",
   "execution_count": 60,
   "metadata": {},
   "outputs": [],
   "source": [
    "# model.summary()"
   ]
  },
  {
   "cell_type": "code",
   "execution_count": 61,
   "metadata": {},
   "outputs": [],
   "source": [
    "# test_labels[:10]"
   ]
  },
  {
   "cell_type": "code",
   "execution_count": 62,
   "metadata": {},
   "outputs": [],
   "source": [
    "# example_batch = normed_train_data[:10]\n",
    "# example_result = model.predict(example_batch)\n",
    "# example_result"
   ]
  },
  {
   "cell_type": "code",
   "execution_count": 63,
   "metadata": {},
   "outputs": [],
   "source": [
    "# EPOCHS = 700\n",
    "\n",
    "# history = model.fit(\n",
    "#   normed_train_data, train_labels,\n",
    "#   epochs=EPOCHS, validation_split = 0.2, verbose=0,\n",
    "#   callbacks=[tfdocs.modeling.EpochDots()])"
   ]
  },
  {
   "cell_type": "code",
   "execution_count": 64,
   "metadata": {},
   "outputs": [],
   "source": [
    "# example_batch = normed_train_data[:10]\n",
    "# example_result = model.predict(example_batch)\n",
    "# example_result"
   ]
  },
  {
   "cell_type": "code",
   "execution_count": 65,
   "metadata": {},
   "outputs": [],
   "source": [
    "# hist = pd.DataFrame(history.history)\n",
    "# hist['epoch'] = history.epoch\n",
    "# hist.tail()"
   ]
  },
  {
   "cell_type": "code",
   "execution_count": 66,
   "metadata": {},
   "outputs": [],
   "source": [
    "# plotter = tfdocs.plots.HistoryPlotter(smoothing_std=2)"
   ]
  },
  {
   "cell_type": "code",
   "execution_count": 67,
   "metadata": {},
   "outputs": [],
   "source": [
    "# plotter.plot({'Basic': history}, metric = \"mae\")\n",
    "# plt.ylim([0, 10])\n",
    "# plt.ylabel('MAE [Home Spread]')"
   ]
  },
  {
   "cell_type": "code",
   "execution_count": 68,
   "metadata": {},
   "outputs": [],
   "source": [
    "# plotter.plot({'Basic': history}, metric = \"mse\")\n",
    "# plt.ylim([0, 100])\n",
    "# plt.ylabel('MSE [Spread^2]')"
   ]
  },
  {
   "cell_type": "code",
   "execution_count": 69,
   "metadata": {},
   "outputs": [],
   "source": [
    "# loss, accuracy = model.evaluate(normed_train_data, train_labels)\n",
    "# print(\"Train Accuracy:\", accuracy)"
   ]
  },
  {
   "cell_type": "code",
   "execution_count": 70,
   "metadata": {},
   "outputs": [],
   "source": [
    "# loss, accuracy = model.evaluate(normed_test_data, test_labels)\n",
    "# print(\"Test Accuracy:\", accuracy)"
   ]
  },
  {
   "cell_type": "markdown",
   "metadata": {},
   "source": [
    "### Model that stops based on improvement of MSE"
   ]
  },
  {
   "cell_type": "code",
   "execution_count": 341,
   "metadata": {},
   "outputs": [
    {
     "name": "stdout",
     "output_type": "stream",
     "text": [
      "\n",
      "Epoch: 0, accuracy:0.5312,  loss:3.5071,  val_accuracy:0.5757,  val_loss:3.8130,  \n",
      "..........................."
     ]
    }
   ],
   "source": [
    "validation_data = (X_test, y_test)\n",
    "\n",
    "model = build_model()\n",
    "\n",
    "# The patience parameter is the amount of epochs to check for improvement\n",
    "early_stop = keras.callbacks.EarlyStopping(monitor='val_loss', mode='min', patience=10)\n",
    "\n",
    "early_history = model.fit(X_train, y_train, \n",
    "                    epochs=200, validation_data = validation_data, verbose=0, batch_size=128, \n",
    "                    callbacks=[early_stop, tfdocs.modeling.EpochDots()])"
   ]
  },
  {
   "cell_type": "code",
   "execution_count": 342,
   "metadata": {},
   "outputs": [
    {
     "name": "stdout",
     "output_type": "stream",
     "text": [
      "1312/1312 [==============================] - 0s 77us/sample - loss: 0.6388 - accuracy: 0.6928\n",
      "Train Accuracy: 0.6928354\n"
     ]
    }
   ],
   "source": [
    "loss, accuracy = model.evaluate(X_train, y_train)\n",
    "print(\"Train Accuracy:\", accuracy)"
   ]
  },
  {
   "cell_type": "code",
   "execution_count": 343,
   "metadata": {},
   "outputs": [
    {
     "name": "stdout",
     "output_type": "stream",
     "text": [
      "971/971 [==============================] - 0s 26us/sample - loss: 0.6540 - accuracy: 0.6447\n",
      "Test Accuracy: 0.6446962\n"
     ]
    }
   ],
   "source": [
    "loss, accuracy = model.evaluate(X_test, y_test)\n",
    "print(\"Test Accuracy:\", accuracy)"
   ]
  },
  {
   "cell_type": "code",
   "execution_count": null,
   "metadata": {},
   "outputs": [],
   "source": []
  },
  {
   "cell_type": "code",
   "execution_count": null,
   "metadata": {},
   "outputs": [],
   "source": []
  },
  {
   "cell_type": "code",
   "execution_count": null,
   "metadata": {},
   "outputs": [],
   "source": []
  },
  {
   "cell_type": "code",
   "execution_count": 203,
   "metadata": {},
   "outputs": [
    {
     "data": {
      "image/png": "[encoded data removed]",
      "text/plain": [
       "<Figure size 432x288 with 1 Axes>"
      ]
     },
     "metadata": {
      "needs_background": "light"
     },
     "output_type": "display_data"
    }
   ],
   "source": [
    "test_predictions = model.predict(normed_test_data).flatten()\n",
    "\n",
    "a = plt.axes(aspect='equal')\n",
    "plt.scatter(test_labels, test_predictions)\n",
    "plt.xlabel('True Values [Home Spread]')\n",
    "plt.ylabel('Predictions [Home Spread]')\n",
    "lims = [0, 40]\n",
    "plt.xlim(lims)\n",
    "plt.ylim(lims)\n",
    "_ = plt.plot(lims, lims)"
   ]
  },
  {
   "cell_type": "code",
   "execution_count": 204,
   "metadata": {},
   "outputs": [
    {
     "data": {
      "image/png": "[encoded data removed]",
      "text/plain": [
       "<Figure size 432x288 with 1 Axes>"
      ]
     },
     "metadata": {
      "needs_background": "light"
     },
     "output_type": "display_data"
    }
   ],
   "source": [
    "error = test_predictions - test_labels\n",
    "plt.hist(error, bins = 25)\n",
    "plt.xlabel(\"Prediction Error [Home Spread]\")\n",
    "_ = plt.ylabel(\"Count\")"
   ]
  },
  {
   "cell_type": "code",
   "execution_count": null,
   "metadata": {},
   "outputs": [],
   "source": []
  },
  {
   "cell_type": "code",
   "execution_count": null,
   "metadata": {},
   "outputs": [],
   "source": []
  },
  {
   "cell_type": "code",
   "execution_count": null,
   "metadata": {},
   "outputs": [],
   "source": []
  },
  {
   "cell_type": "code",
   "execution_count": null,
   "metadata": {},
   "outputs": [],
   "source": []
  },
  {
   "cell_type": "code",
   "execution_count": null,
   "metadata": {},
   "outputs": [],
   "source": []
  },
  {
   "cell_type": "code",
   "execution_count": 41,
   "metadata": {},
   "outputs": [],
   "source": [
    "# model = tf.keras.models.Sequential()\n",
    "# model.add(tf.keras.layers.Dense(128, activation=tf.nn.relu))\n",
    "# model.add(keras.layers.Dropout(0.5))\n",
    "# model.add(tf.keras.layers.Dense(128, activation=tf.nn.relu))\n",
    "# model.add(keras.layers.Dropout(0.5))\n",
    "# model.add(tf.keras.layers.Dense(1, activation=tf.nn.sigmoid))\n",
    "\n",
    "# model.compile(optimizer='rmsprop',\n",
    "#               loss='binary_crossentropy',\n",
    "#               metrics=['accuracy'])\n",
    "\n",
    "# model.fit(X_train, y_train, epochs=20)"
   ]
  },
  {
   "cell_type": "code",
   "execution_count": 42,
   "metadata": {},
   "outputs": [],
   "source": [
    "# val_loss, val_acc = model.evaluate(X_test, y_test)\n",
    "# print(val_loss, val_acc)"
   ]
  },
  {
   "cell_type": "code",
   "execution_count": null,
   "metadata": {},
   "outputs": [],
   "source": []
  }
 ],
 "metadata": {
  "kernelspec": {
   "display_name": "Python 3",
   "language": "python",
   "name": "python3"
  },
  "language_info": {
   "codemirror_mode": {
    "name": "ipython",
    "version": 3
   },
   "file_extension": ".py",
   "mimetype": "text/x-python",
   "name": "python",
   "nbconvert_exporter": "python",
   "pygments_lexer": "ipython3",
   "version": "3.7.6"
  }
 },
 "nbformat": 4,
 "nbformat_minor": 4
}
