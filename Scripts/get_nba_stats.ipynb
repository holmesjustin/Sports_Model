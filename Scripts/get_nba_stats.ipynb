{
 "cells": [
  {
   "cell_type": "code",
   "execution_count": 1,
   "metadata": {},
   "outputs": [],
   "source": [
    "from bs4 import BeautifulSoup\n",
    "import pandas as pd\n",
    "from selenium import webdriver\n",
    "import time\n",
    "from openpyxl import load_workbook"
   ]
  },
  {
   "cell_type": "code",
   "execution_count": 11,
   "metadata": {},
   "outputs": [
    {
     "name": "stdout",
     "output_type": "stream",
     "text": [
      "Enter the first year from which you want data: 2005\n"
     ]
    }
   ],
   "source": [
    "doEverything()"
   ]
  },
  {
   "cell_type": "markdown",
   "metadata": {},
   "source": [
    "###### Phantom browser options"
   ]
  },
  {
   "cell_type": "code",
   "execution_count": 3,
   "metadata": {},
   "outputs": [],
   "source": [
    "phantomOptions = webdriver.ChromeOptions()\n",
    "phantomOptions.add_argument('--headless')\n",
    "# phantomOptions.add_argument('--no-proxy-server')\n",
    "# phantomOptions.add_argument(\"--proxy-server='direct://'\")\n",
    "# phantomOptions.add_argument(\"--proxy-bypass-list=*\")\n",
    "# phantomOptions.add_argument(\"--log-level=3\")"
   ]
  },
  {
   "cell_type": "markdown",
   "metadata": {},
   "source": [
    "### Collect all data (Per Game Stats) from wanted years, add it to a dictionary with year, dataframe as key,value set."
   ]
  },
  {
   "cell_type": "code",
   "execution_count": 4,
   "metadata": {},
   "outputs": [],
   "source": [
    "def getData(dtype, yearsWanted):\n",
    "    \n",
    "    if dtype == \"team\":\n",
    "        \n",
    "        url = \"https://www.basketball-reference.com/leagues/NBA_{}.html\"\n",
    "        \n",
    "        table_id = ['team-stats-per_game','team-stats-per_poss', 'opponent-stats-per_game',\n",
    "                    'opponent-stats-per_poss','misc_stats']\n",
    "\n",
    "        \n",
    "    if dtype == \"player\":\n",
    "        url = \"https://www.basketball-reference.com/leagues/NBA_{}_per_game.html\"\n",
    "        \n",
    "        table_id = ['per_game_stats']\n",
    "        \n",
    "       \n",
    "    dfs = []\n",
    "    \n",
    "    for year in yearsWanted:\n",
    "\n",
    "        # set driver type\n",
    "        #driver = webdriver.Chrome(options=phantomOptions)\n",
    "        driver = webdriver.Chrome()\n",
    "\n",
    "        \n",
    "        driver.get(url.format(year))\n",
    "\n",
    "        HTML = driver.execute_script(\"return document.documentElement.outerHTML\")\n",
    "\n",
    "        driver.quit()\n",
    "\n",
    "        soup = BeautifulSoup(HTML)\n",
    "        \n",
    "        dfLeft = pd.DataFrame()\n",
    "        \n",
    "        # for every data table that we don't have data for in the year of this iteration\n",
    "        idx = 0\n",
    "        \n",
    "        for table in table_id:\n",
    "\n",
    "            dataTable = soup.find('table', {'id':table})\n",
    "\n",
    "            # use findALL() to get the column headers\n",
    "            if table == \"misc_stats\":\n",
    "                labs = 1\n",
    "                limit = 2\n",
    "            else:\n",
    "                labs = 0\n",
    "                limit = 1\n",
    "                \n",
    "            dataTable.findAll('tr', limit=limit)[labs]\n",
    "\n",
    "            # use getText()to extract the text we need into a list\n",
    "            headers = [th.getText() for th in dataTable.findAll('tr', limit=limit)[labs].findAll('th')]\n",
    "\n",
    "            # exclude the first column as we will not need the ranking order for the analysis\n",
    "            if table != \"misc_stats\":\n",
    "                headers[9] = '3P%'\n",
    "                headers[12] = '2P%'\n",
    "            \n",
    "            headers = headers[1:]\n",
    "         \n",
    "            rows = dataTable.findAll('tr', class_=lambda x: x != 'thead' or 'average_table no_ranker')[1:]\n",
    "            \n",
    "            stats = [[td.getText() for td in rows[i].findAll('td')]\n",
    "                        for i in range(len(rows))]\n",
    "                 \n",
    "            dfRight = pd.DataFrame(stats, columns = headers)\n",
    "                   \n",
    "            if idx == 0:\n",
    "                dfLeft = dfRight\n",
    "                idx += 1\n",
    "            \n",
    "            else:\n",
    "                if dtype == \"team\":\n",
    "                    #dfRight = dfRight.sort_values(by=['Team'])\n",
    "                    dfLeft = pd.merge(dfLeft, dfRight, on='Team')\n",
    "\n",
    "\n",
    "                if dtype == \"player\":\n",
    "                    #dfRight = dfRight.sort_values(by=['Player'])\n",
    "                    dfLeft = pd.merge(dfLeft, dfRight, on='Player')\n",
    "            \n",
    "                         \n",
    "            # add year to the second column of the data frame for each year       \n",
    "            if dfLeft.columns[1] != \"Year\":\n",
    "                dfLeft.insert(loc=1, column=\"Year\", value=year)\n",
    "                \n",
    "            \n",
    "        dfLeft = dfLeft.dropna(thresh=len(list(dfLeft.columns))-2)\n",
    "        \n",
    "        dfs.append(dfLeft)    \n",
    "           \n",
    "    dfFinal = pd.concat(dfs, axis=0, ignore_index=True)\n",
    "\n",
    "    return dfFinal"
   ]
  },
  {
   "cell_type": "markdown",
   "metadata": {},
   "source": [
    "## Outcome Data"
   ]
  },
  {
   "cell_type": "markdown",
   "metadata": {},
   "source": [
    "#### Find winner of game"
   ]
  },
  {
   "cell_type": "code",
   "execution_count": 5,
   "metadata": {},
   "outputs": [],
   "source": [
    "def winner(dataframe):\n",
    "    if (dataframe['VisitorPTS'] > dataframe['HomePTS']):\n",
    "        return dataframe['Visitor/Neutral']\n",
    "    else:\n",
    "        return dataframe['Home/Neutral']"
   ]
  },
  {
   "cell_type": "markdown",
   "metadata": {},
   "source": [
    "#### Get outcome data for given years"
   ]
  },
  {
   "cell_type": "code",
   "execution_count": 6,
   "metadata": {},
   "outputs": [],
   "source": [
    "def getOutcomeData(yearsWanted):\n",
    "    \n",
    "    \n",
    "    url = \"https://www.basketball-reference.com/leagues/NBA_{}_games-{}.html\"\n",
    "    \n",
    "    months = ['october', 'november', 'december', 'january', 'february', 'march', 'april', 'may', 'june']\n",
    "    \n",
    "    dfs = []\n",
    "    \n",
    "    for year in yearsWanted:\n",
    "        \n",
    "        for month in months:\n",
    "            \n",
    "            if year == 2020 and month == \"april\":\n",
    "                break\n",
    "#             key = str(year) + \"_\" + str(month)\n",
    "            \n",
    "#             # check to see if the data is already in the dictionary\n",
    "#             if key in outcomeData:\n",
    "#                 continue\n",
    "\n",
    "            # set driver type\n",
    "            #driver = webdriver.Chrome(options=phantomOptions)\n",
    "            driver = webdriver.Chrome()\n",
    "\n",
    "\n",
    "            driver.get(url.format(year, month))\n",
    "\n",
    "            HTML = driver.execute_script(\"return document.documentElement.outerHTML\")\n",
    "            \n",
    "            if 'Page Not Found (404 error)' in driver.page_source:\n",
    "                driver.quit()\n",
    "                continue\n",
    "                \n",
    "            driver.quit()\n",
    "\n",
    "            soup = BeautifulSoup(HTML)\n",
    "\n",
    "            dataTable = soup.find('table', {'id':'schedule'})\n",
    "\n",
    "            # use findALL() to get the column headers\n",
    "            dataTable.findAll('tr', limit=1)[0]\n",
    "\n",
    "            # use getText()to extract the text we need into a list\n",
    "            headers = [th.getText() for th in dataTable.findAll('tr', limit=1)[0].findAll('th')]\n",
    "\n",
    "            # exclude the first column as we will not need the ranking order for the analysis\n",
    "            headers = headers[1:]\n",
    "\n",
    "            # avoid all header rows\n",
    "            rows = dataTable.findAll('tr', class_=lambda x: x != 'thead')[1:]\n",
    "                            \n",
    "            stats = [[td.getText() for td in rows[i].findAll('td')]\n",
    "                        for i in range(len(rows))]\n",
    "        \n",
    "            \n",
    "            outcomeDF = pd.DataFrame(stats, columns = headers)\n",
    "            \n",
    "            # reformat dataframes to only include teams, points, attendence, and column for who won\n",
    "            outcomeDF = outcomeDF.drop(['Start (ET)', 'Notes', '\\xa0'], axis=1)\n",
    "            outcomeDF.columns = ['Visitor/Neutral', 'VisitorPTS', 'Home/Neutral', 'HomePTS', 'Attend.']\n",
    "            \n",
    "            # convert integer columns to integers\n",
    "            outcomeDF['VisitorPTS'] = outcomeDF['VisitorPTS'].astype(str).astype(int)\n",
    "            outcomeDF['HomePTS'] = outcomeDF['HomePTS'].astype(str).astype(int)\n",
    "            outcomeDF['Attend.'] = outcomeDF['Attend.'].replace(',','', regex=True)\n",
    "            outcomeDF['Attend.'] = outcomeDF['Attend.'].astype(str).astype(int)\n",
    "            \n",
    "            \n",
    "            # make any changes or calculations to the data set below here\n",
    "            \n",
    "            # create column for total points scored\n",
    "            outcomeDF['Total Points'] = outcomeDF['VisitorPTS'] + outcomeDF['HomePTS']\n",
    "            \n",
    "            # find the winner of the game\n",
    "            outcomeDF['Winner'] = outcomeDF.apply(winner, axis=1)\n",
    "            \n",
    "            #record the month and year of the game\n",
    "            outcomeDF.insert(loc=0, column=\"Year\", value=year)\n",
    "            outcomeDF.insert(loc=1, column=\"Month\", value=month)  \n",
    "            \n",
    "            dfs.append(outcomeDF)\n",
    "            \n",
    "            \n",
    "    #dfFinal = pd.concat(dfs)\n",
    "    dfFinal = pd.concat(dfs, axis=0, ignore_index=True)\n",
    "\n",
    "    \n",
    "    return dfFinal"
   ]
  },
  {
   "cell_type": "code",
   "execution_count": 7,
   "metadata": {},
   "outputs": [],
   "source": [
    "def dataRange():\n",
    "    startYear = int(input(\"Enter the first year from which you want data: \"))\n",
    "    currentYear = 2020\n",
    "    yearsWanted = []\n",
    "\n",
    "    for i in range(currentYear-startYear+1):\n",
    "        yearsWanted.append(startYear+i)\n",
    "        \n",
    "    return yearsWanted"
   ]
  },
  {
   "cell_type": "code",
   "execution_count": 8,
   "metadata": {},
   "outputs": [],
   "source": [
    "def collectData(yearsWanted):\n",
    "    teamData = getData('team', yearsWanted)\n",
    "    playerData = getData('player', yearsWanted)\n",
    "    outcomeData = getOutcomeData(yearsWanted)\n",
    "    \n",
    "    return[teamData, playerData, outcomeData]"
   ]
  },
  {
   "cell_type": "markdown",
   "metadata": {},
   "source": [
    "## Export data to Excel spreadsheet"
   ]
  },
  {
   "cell_type": "code",
   "execution_count": 9,
   "metadata": {},
   "outputs": [],
   "source": [
    "def writeToExcel(teamDF, playerAnnualDF, outcomeDF):\n",
    "\n",
    "    path = r\"/Users/justinholmes/Desktop/Sports_Model/Data/NBA_data.xlsx\"\n",
    "\n",
    "    with pd.ExcelWriter(path, engine='xlsxwriter') as writer: \n",
    "\n",
    "        teamDF.to_excel(writer, \"Team Data\", index=False)\n",
    "        playerAnnualDF.to_excel(writer, \"Player Data\", index=False)\n",
    "        outcomeDF.to_excel(writer, \"Outcome Data\", index=False)\n",
    "\n",
    "        writer.save() \n",
    "        writer.close()"
   ]
  },
  {
   "cell_type": "code",
   "execution_count": 10,
   "metadata": {},
   "outputs": [],
   "source": [
    "def doEverything():\n",
    "    \n",
    "    years = dataRange()\n",
    "    \n",
    "    allDF = collectData(years)\n",
    "    \n",
    "    teamDF = allDF[0]\n",
    "    playerAnnualDF = allDF[1]\n",
    "    outcomeDF = allDF[2]\n",
    "    \n",
    "    writeToExcel(teamDF, playerAnnualDF, outcomeDF)"
   ]
  }
 ],
 "metadata": {
  "kernelspec": {
   "display_name": "Python 3",
   "language": "python",
   "name": "python3"
  },
  "language_info": {
   "codemirror_mode": {
    "name": "ipython",
    "version": 3
   },
   "file_extension": ".py",
   "mimetype": "text/x-python",
   "name": "python",
   "nbconvert_exporter": "python",
   "pygments_lexer": "ipython3",
   "version": "3.7.6"
  }
 },
 "nbformat": 4,
 "nbformat_minor": 4
}
